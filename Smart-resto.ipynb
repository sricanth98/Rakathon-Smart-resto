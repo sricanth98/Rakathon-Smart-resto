{
 "cells": [
  {
   "cell_type": "markdown",
   "metadata": {},
   "source": [
    "# <font color=blue>Smart-resto</font>"
   ]
  },
  {
   "cell_type": "markdown",
   "metadata": {},
   "source": [
    "<b><font color=orange>Problem Statement :</font></b>\n",
    "\n",
    "~40 %   of the food produced in India is wasted.<br>\n",
    "~84.7 % of the total food waste recorded was thrown in the bin. <br>\n",
    "~18.7kgs  of food are disposed off by one Safal outlet daily. \n"
   ]
  },
  {
   "cell_type": "markdown",
   "metadata": {},
   "source": [
    "\n",
    "    \n",
    " - A significant portion of the food waste binned was still in edible condition.\n",
    "\n",
    " - One of root cause could be due to more Supply of foods when there is less demand.\n",
    "\n",
    " - There is no adequate information or prediction about food sales on daily basis"
   ]
  },
  {
   "cell_type": "code",
   "execution_count": 315,
   "metadata": {},
   "outputs": [],
   "source": [
    "#importing libraries\n",
    "import pandas as pd\n",
    "import numpy as np\n",
    "\n",
    "#importing libraries for plots and graphs\n",
    "import matplotlib.pyplot as plt\n",
    "import seaborn as sns\n",
    "\n",
    "from __future__ import division"
   ]
  },
  {
   "cell_type": "code",
   "execution_count": 316,
   "metadata": {},
   "outputs": [],
   "source": [
    "#Pandas Dataframe\n",
    "resto = pd.read_csv('Resto-new.csv')"
   ]
  },
  {
   "cell_type": "code",
   "execution_count": 317,
   "metadata": {},
   "outputs": [
    {
     "data": {
      "text/html": [
       "<div>\n",
       "<style scoped>\n",
       "    .dataframe tbody tr th:only-of-type {\n",
       "        vertical-align: middle;\n",
       "    }\n",
       "\n",
       "    .dataframe tbody tr th {\n",
       "        vertical-align: top;\n",
       "    }\n",
       "\n",
       "    .dataframe thead th {\n",
       "        text-align: right;\n",
       "    }\n",
       "</style>\n",
       "<table border=\"1\" class=\"dataframe\">\n",
       "  <thead>\n",
       "    <tr style=\"text-align: right;\">\n",
       "      <th></th>\n",
       "      <th>Resto Name</th>\n",
       "      <th>Address</th>\n",
       "      <th>Registration No</th>\n",
       "      <th>Date</th>\n",
       "      <th>Day</th>\n",
       "      <th>Menu</th>\n",
       "      <th>Code</th>\n",
       "      <th>Type</th>\n",
       "      <th>Price</th>\n",
       "      <th>Qty_Prep_kg</th>\n",
       "      <th>Qty_Sold_kg</th>\n",
       "      <th>Holiday</th>\n",
       "    </tr>\n",
       "  </thead>\n",
       "  <tbody>\n",
       "    <tr>\n",
       "      <th>0</th>\n",
       "      <td>Anjappar</td>\n",
       "      <td>Mylapore</td>\n",
       "      <td>23456</td>\n",
       "      <td>01-01-2020</td>\n",
       "      <td>Wednesday</td>\n",
       "      <td>Vegetable Briyani</td>\n",
       "      <td>VB</td>\n",
       "      <td>Lunch</td>\n",
       "      <td>160</td>\n",
       "      <td>30</td>\n",
       "      <td>25</td>\n",
       "      <td>New Year</td>\n",
       "    </tr>\n",
       "    <tr>\n",
       "      <th>1</th>\n",
       "      <td>Anjappar</td>\n",
       "      <td>Mylapore</td>\n",
       "      <td>23456</td>\n",
       "      <td>01-01-2020</td>\n",
       "      <td>Wednesday</td>\n",
       "      <td>Vegretable Fried Rice</td>\n",
       "      <td>VFR</td>\n",
       "      <td>Lunch</td>\n",
       "      <td>180</td>\n",
       "      <td>30</td>\n",
       "      <td>28</td>\n",
       "      <td>New Year</td>\n",
       "    </tr>\n",
       "    <tr>\n",
       "      <th>2</th>\n",
       "      <td>Anjappar</td>\n",
       "      <td>Mylapore</td>\n",
       "      <td>23456</td>\n",
       "      <td>01-01-2020</td>\n",
       "      <td>Wednesday</td>\n",
       "      <td>Veg thali meals</td>\n",
       "      <td>VMLS</td>\n",
       "      <td>Lunch</td>\n",
       "      <td>190</td>\n",
       "      <td>45</td>\n",
       "      <td>30</td>\n",
       "      <td>New Year</td>\n",
       "    </tr>\n",
       "    <tr>\n",
       "      <th>3</th>\n",
       "      <td>Anjappar</td>\n",
       "      <td>Mylapore</td>\n",
       "      <td>23456</td>\n",
       "      <td>01-01-2020</td>\n",
       "      <td>Wednesday</td>\n",
       "      <td>Non-veg thali meals</td>\n",
       "      <td>NV MEALS</td>\n",
       "      <td>Lunch</td>\n",
       "      <td>225</td>\n",
       "      <td>60</td>\n",
       "      <td>46</td>\n",
       "      <td>New Year</td>\n",
       "    </tr>\n",
       "    <tr>\n",
       "      <th>4</th>\n",
       "      <td>Anjappar</td>\n",
       "      <td>Mylapore</td>\n",
       "      <td>23456</td>\n",
       "      <td>01-01-2020</td>\n",
       "      <td>Wednesday</td>\n",
       "      <td>Chicken Briyani</td>\n",
       "      <td>CB</td>\n",
       "      <td>Lunch</td>\n",
       "      <td>265</td>\n",
       "      <td>60</td>\n",
       "      <td>60</td>\n",
       "      <td>New Year</td>\n",
       "    </tr>\n",
       "  </tbody>\n",
       "</table>\n",
       "</div>"
      ],
      "text/plain": [
       "  Resto Name    Address  Registration No        Date        Day  \\\n",
       "0    Anjappar  Mylapore            23456  01-01-2020  Wednesday   \n",
       "1    Anjappar  Mylapore            23456  01-01-2020  Wednesday   \n",
       "2    Anjappar  Mylapore            23456  01-01-2020  Wednesday   \n",
       "3    Anjappar  Mylapore            23456  01-01-2020  Wednesday   \n",
       "4    Anjappar  Mylapore            23456  01-01-2020  Wednesday   \n",
       "\n",
       "                    Menu      Code   Type  Price  Qty_Prep_kg  Qty_Sold_kg  \\\n",
       "0      Vegetable Briyani        VB  Lunch    160           30           25   \n",
       "1  Vegretable Fried Rice       VFR  Lunch    180           30           28   \n",
       "2       Veg thali meals       VMLS  Lunch    190           45           30   \n",
       "3   Non-veg thali meals   NV MEALS  Lunch    225           60           46   \n",
       "4        Chicken Briyani        CB  Lunch    265           60           60   \n",
       "\n",
       "    Holiday  \n",
       "0  New Year  \n",
       "1  New Year  \n",
       "2  New Year  \n",
       "3  New Year  \n",
       "4  New Year  "
      ]
     },
     "execution_count": 317,
     "metadata": {},
     "output_type": "execute_result"
    }
   ],
   "source": [
    "#Reading the Dataframe\n",
    "resto.head()"
   ]
  },
  {
   "cell_type": "code",
   "execution_count": 318,
   "metadata": {},
   "outputs": [
    {
     "name": "stdout",
     "output_type": "stream",
     "text": [
      "<class 'pandas.core.frame.DataFrame'>\n",
      "RangeIndex: 434 entries, 0 to 433\n",
      "Data columns (total 12 columns):\n",
      " #   Column           Non-Null Count  Dtype \n",
      "---  ------           --------------  ----- \n",
      " 0   Resto Name       434 non-null    object\n",
      " 1   Address          434 non-null    object\n",
      " 2   Registration No  434 non-null    int64 \n",
      " 3   Date             434 non-null    object\n",
      " 4   Day              434 non-null    object\n",
      " 5   Menu             434 non-null    object\n",
      " 6   Code             434 non-null    object\n",
      " 7   Type             434 non-null    object\n",
      " 8   Price            434 non-null    int64 \n",
      " 9   Qty_Prep_kg      434 non-null    int64 \n",
      " 10  Qty_Sold_kg      434 non-null    int64 \n",
      " 11  Holiday          434 non-null    object\n",
      "dtypes: int64(4), object(8)\n",
      "memory usage: 40.8+ KB\n"
     ]
    }
   ],
   "source": [
    "resto.info()"
   ]
  },
  {
   "cell_type": "markdown",
   "metadata": {},
   "source": [
    "#### Derived column "
   ]
  },
  {
   "cell_type": "code",
   "execution_count": 319,
   "metadata": {},
   "outputs": [],
   "source": [
    "#This Qty_wasted will be our target variable\n",
    "resto['Qty_wasted'] = resto['Qty_Prep_kg'] - resto['Qty_Sold_kg']"
   ]
  },
  {
   "cell_type": "code",
   "execution_count": 320,
   "metadata": {},
   "outputs": [
    {
     "name": "stdout",
     "output_type": "stream",
     "text": [
      "0  /  13\n"
     ]
    }
   ],
   "source": [
    "# Check any number of columns with NaN or missing values \n",
    "print(resto.isnull().any().sum(), ' / ', len(resto.columns))"
   ]
  },
  {
   "cell_type": "code",
   "execution_count": 321,
   "metadata": {},
   "outputs": [
    {
     "name": "stdout",
     "output_type": "stream",
     "text": [
      "0  /  434\n"
     ]
    }
   ],
   "source": [
    "# Check any number of data points with NaN\n",
    "print(resto.isnull().any(axis=1).sum(), ' / ', len(resto))"
   ]
  },
  {
   "cell_type": "markdown",
   "metadata": {},
   "source": [
    "#### Good , We have no missing values "
   ]
  },
  {
   "cell_type": "code",
   "execution_count": 322,
   "metadata": {},
   "outputs": [],
   "source": [
    "#Purging Resto name, address and registration column\n",
    "resto = resto.drop(['Resto Name ','Address', 'Registration No', 'Type', 'Menu'],axis=1)"
   ]
  },
  {
   "cell_type": "code",
   "execution_count": 323,
   "metadata": {},
   "outputs": [
    {
     "data": {
      "text/plain": [
       "(434, 8)"
      ]
     },
     "execution_count": 323,
     "metadata": {},
     "output_type": "execute_result"
    }
   ],
   "source": [
    "resto.shape"
   ]
  },
  {
   "cell_type": "code",
   "execution_count": 324,
   "metadata": {},
   "outputs": [],
   "source": [
    " resto['Date'] = pd.to_datetime(resto['Date'], format='%d-%m-%Y', errors='coerce')"
   ]
  },
  {
   "cell_type": "code",
   "execution_count": 325,
   "metadata": {},
   "outputs": [
    {
     "name": "stdout",
     "output_type": "stream",
     "text": [
      "0  /  8\n"
     ]
    }
   ],
   "source": [
    "# Check any number of columns with NaN or missing values \n",
    "print(resto.isnull().any().sum(), ' / ', len(resto.columns))"
   ]
  },
  {
   "cell_type": "code",
   "execution_count": 326,
   "metadata": {},
   "outputs": [
    {
     "data": {
      "text/html": [
       "<div>\n",
       "<style scoped>\n",
       "    .dataframe tbody tr th:only-of-type {\n",
       "        vertical-align: middle;\n",
       "    }\n",
       "\n",
       "    .dataframe tbody tr th {\n",
       "        vertical-align: top;\n",
       "    }\n",
       "\n",
       "    .dataframe thead th {\n",
       "        text-align: right;\n",
       "    }\n",
       "</style>\n",
       "<table border=\"1\" class=\"dataframe\">\n",
       "  <thead>\n",
       "    <tr style=\"text-align: right;\">\n",
       "      <th></th>\n",
       "      <th>Date</th>\n",
       "      <th>Day</th>\n",
       "      <th>Code</th>\n",
       "      <th>Price</th>\n",
       "      <th>Qty_Prep_kg</th>\n",
       "      <th>Qty_Sold_kg</th>\n",
       "      <th>Holiday</th>\n",
       "      <th>Qty_wasted</th>\n",
       "    </tr>\n",
       "  </thead>\n",
       "  <tbody>\n",
       "  </tbody>\n",
       "</table>\n",
       "</div>"
      ],
      "text/plain": [
       "Empty DataFrame\n",
       "Columns: [Date, Day, Code, Price, Qty_Prep_kg, Qty_Sold_kg, Holiday, Qty_wasted]\n",
       "Index: []"
      ]
     },
     "execution_count": 326,
     "metadata": {},
     "output_type": "execute_result"
    }
   ],
   "source": [
    "resto[resto['Date'].isnull()]"
   ]
  },
  {
   "cell_type": "code",
   "execution_count": 327,
   "metadata": {},
   "outputs": [
    {
     "data": {
      "text/html": [
       "<div>\n",
       "<style scoped>\n",
       "    .dataframe tbody tr th:only-of-type {\n",
       "        vertical-align: middle;\n",
       "    }\n",
       "\n",
       "    .dataframe tbody tr th {\n",
       "        vertical-align: top;\n",
       "    }\n",
       "\n",
       "    .dataframe thead th {\n",
       "        text-align: right;\n",
       "    }\n",
       "</style>\n",
       "<table border=\"1\" class=\"dataframe\">\n",
       "  <thead>\n",
       "    <tr style=\"text-align: right;\">\n",
       "      <th></th>\n",
       "      <th>Date</th>\n",
       "      <th>Day</th>\n",
       "      <th>Code</th>\n",
       "      <th>Price</th>\n",
       "      <th>Qty_Prep_kg</th>\n",
       "      <th>Qty_Sold_kg</th>\n",
       "      <th>Holiday</th>\n",
       "      <th>Qty_wasted</th>\n",
       "    </tr>\n",
       "  </thead>\n",
       "  <tbody>\n",
       "    <tr>\n",
       "      <th>0</th>\n",
       "      <td>2020-01-01</td>\n",
       "      <td>Wednesday</td>\n",
       "      <td>VB</td>\n",
       "      <td>160</td>\n",
       "      <td>30</td>\n",
       "      <td>25</td>\n",
       "      <td>New Year</td>\n",
       "      <td>5</td>\n",
       "    </tr>\n",
       "    <tr>\n",
       "      <th>1</th>\n",
       "      <td>2020-01-01</td>\n",
       "      <td>Wednesday</td>\n",
       "      <td>VFR</td>\n",
       "      <td>180</td>\n",
       "      <td>30</td>\n",
       "      <td>28</td>\n",
       "      <td>New Year</td>\n",
       "      <td>2</td>\n",
       "    </tr>\n",
       "    <tr>\n",
       "      <th>2</th>\n",
       "      <td>2020-01-01</td>\n",
       "      <td>Wednesday</td>\n",
       "      <td>VMLS</td>\n",
       "      <td>190</td>\n",
       "      <td>45</td>\n",
       "      <td>30</td>\n",
       "      <td>New Year</td>\n",
       "      <td>15</td>\n",
       "    </tr>\n",
       "    <tr>\n",
       "      <th>3</th>\n",
       "      <td>2020-01-01</td>\n",
       "      <td>Wednesday</td>\n",
       "      <td>NV MEALS</td>\n",
       "      <td>225</td>\n",
       "      <td>60</td>\n",
       "      <td>46</td>\n",
       "      <td>New Year</td>\n",
       "      <td>14</td>\n",
       "    </tr>\n",
       "    <tr>\n",
       "      <th>4</th>\n",
       "      <td>2020-01-01</td>\n",
       "      <td>Wednesday</td>\n",
       "      <td>CB</td>\n",
       "      <td>265</td>\n",
       "      <td>60</td>\n",
       "      <td>60</td>\n",
       "      <td>New Year</td>\n",
       "      <td>0</td>\n",
       "    </tr>\n",
       "  </tbody>\n",
       "</table>\n",
       "</div>"
      ],
      "text/plain": [
       "        Date        Day      Code  Price  Qty_Prep_kg  Qty_Sold_kg   Holiday  \\\n",
       "0 2020-01-01  Wednesday        VB    160           30           25  New Year   \n",
       "1 2020-01-01  Wednesday       VFR    180           30           28  New Year   \n",
       "2 2020-01-01  Wednesday      VMLS    190           45           30  New Year   \n",
       "3 2020-01-01  Wednesday  NV MEALS    225           60           46  New Year   \n",
       "4 2020-01-01  Wednesday        CB    265           60           60  New Year   \n",
       "\n",
       "   Qty_wasted  \n",
       "0           5  \n",
       "1           2  \n",
       "2          15  \n",
       "3          14  \n",
       "4           0  "
      ]
     },
     "execution_count": 327,
     "metadata": {},
     "output_type": "execute_result"
    }
   ],
   "source": [
    "resto.head()"
   ]
  },
  {
   "cell_type": "markdown",
   "metadata": {},
   "source": [
    "### One Hot Encoding "
   ]
  },
  {
   "cell_type": "code",
   "execution_count": 328,
   "metadata": {},
   "outputs": [],
   "source": [
    "resto_Day = pd.get_dummies(resto['Day'], drop_first=True)"
   ]
  },
  {
   "cell_type": "code",
   "execution_count": 329,
   "metadata": {},
   "outputs": [
    {
     "data": {
      "text/html": [
       "<div>\n",
       "<style scoped>\n",
       "    .dataframe tbody tr th:only-of-type {\n",
       "        vertical-align: middle;\n",
       "    }\n",
       "\n",
       "    .dataframe tbody tr th {\n",
       "        vertical-align: top;\n",
       "    }\n",
       "\n",
       "    .dataframe thead th {\n",
       "        text-align: right;\n",
       "    }\n",
       "</style>\n",
       "<table border=\"1\" class=\"dataframe\">\n",
       "  <thead>\n",
       "    <tr style=\"text-align: right;\">\n",
       "      <th></th>\n",
       "      <th>Monday</th>\n",
       "      <th>Saturday</th>\n",
       "      <th>Sunday</th>\n",
       "      <th>Thursday</th>\n",
       "      <th>Tuesday</th>\n",
       "      <th>Wednesday</th>\n",
       "    </tr>\n",
       "  </thead>\n",
       "  <tbody>\n",
       "    <tr>\n",
       "      <th>0</th>\n",
       "      <td>0</td>\n",
       "      <td>0</td>\n",
       "      <td>0</td>\n",
       "      <td>0</td>\n",
       "      <td>0</td>\n",
       "      <td>1</td>\n",
       "    </tr>\n",
       "    <tr>\n",
       "      <th>1</th>\n",
       "      <td>0</td>\n",
       "      <td>0</td>\n",
       "      <td>0</td>\n",
       "      <td>0</td>\n",
       "      <td>0</td>\n",
       "      <td>1</td>\n",
       "    </tr>\n",
       "    <tr>\n",
       "      <th>2</th>\n",
       "      <td>0</td>\n",
       "      <td>0</td>\n",
       "      <td>0</td>\n",
       "      <td>0</td>\n",
       "      <td>0</td>\n",
       "      <td>1</td>\n",
       "    </tr>\n",
       "    <tr>\n",
       "      <th>3</th>\n",
       "      <td>0</td>\n",
       "      <td>0</td>\n",
       "      <td>0</td>\n",
       "      <td>0</td>\n",
       "      <td>0</td>\n",
       "      <td>1</td>\n",
       "    </tr>\n",
       "    <tr>\n",
       "      <th>4</th>\n",
       "      <td>0</td>\n",
       "      <td>0</td>\n",
       "      <td>0</td>\n",
       "      <td>0</td>\n",
       "      <td>0</td>\n",
       "      <td>1</td>\n",
       "    </tr>\n",
       "  </tbody>\n",
       "</table>\n",
       "</div>"
      ],
      "text/plain": [
       "   Monday  Saturday  Sunday  Thursday  Tuesday  Wednesday\n",
       "0       0         0       0         0        0          1\n",
       "1       0         0       0         0        0          1\n",
       "2       0         0       0         0        0          1\n",
       "3       0         0       0         0        0          1\n",
       "4       0         0       0         0        0          1"
      ]
     },
     "execution_count": 329,
     "metadata": {},
     "output_type": "execute_result"
    }
   ],
   "source": [
    "resto_Day.head()"
   ]
  },
  {
   "cell_type": "code",
   "execution_count": 330,
   "metadata": {},
   "outputs": [],
   "source": [
    "resto_Code = pd.get_dummies(resto['Code'], drop_first=True)"
   ]
  },
  {
   "cell_type": "code",
   "execution_count": 331,
   "metadata": {},
   "outputs": [
    {
     "data": {
      "text/html": [
       "<div>\n",
       "<style scoped>\n",
       "    .dataframe tbody tr th:only-of-type {\n",
       "        vertical-align: middle;\n",
       "    }\n",
       "\n",
       "    .dataframe tbody tr th {\n",
       "        vertical-align: top;\n",
       "    }\n",
       "\n",
       "    .dataframe thead th {\n",
       "        text-align: right;\n",
       "    }\n",
       "</style>\n",
       "<table border=\"1\" class=\"dataframe\">\n",
       "  <thead>\n",
       "    <tr style=\"text-align: right;\">\n",
       "      <th></th>\n",
       "      <th>MB</th>\n",
       "      <th>NV MEALS</th>\n",
       "      <th>PB</th>\n",
       "      <th>VB</th>\n",
       "      <th>VFR</th>\n",
       "      <th>VMLS</th>\n",
       "    </tr>\n",
       "  </thead>\n",
       "  <tbody>\n",
       "    <tr>\n",
       "      <th>0</th>\n",
       "      <td>0</td>\n",
       "      <td>0</td>\n",
       "      <td>0</td>\n",
       "      <td>1</td>\n",
       "      <td>0</td>\n",
       "      <td>0</td>\n",
       "    </tr>\n",
       "    <tr>\n",
       "      <th>1</th>\n",
       "      <td>0</td>\n",
       "      <td>0</td>\n",
       "      <td>0</td>\n",
       "      <td>0</td>\n",
       "      <td>1</td>\n",
       "      <td>0</td>\n",
       "    </tr>\n",
       "    <tr>\n",
       "      <th>2</th>\n",
       "      <td>0</td>\n",
       "      <td>0</td>\n",
       "      <td>0</td>\n",
       "      <td>0</td>\n",
       "      <td>0</td>\n",
       "      <td>1</td>\n",
       "    </tr>\n",
       "    <tr>\n",
       "      <th>3</th>\n",
       "      <td>0</td>\n",
       "      <td>1</td>\n",
       "      <td>0</td>\n",
       "      <td>0</td>\n",
       "      <td>0</td>\n",
       "      <td>0</td>\n",
       "    </tr>\n",
       "    <tr>\n",
       "      <th>4</th>\n",
       "      <td>0</td>\n",
       "      <td>0</td>\n",
       "      <td>0</td>\n",
       "      <td>0</td>\n",
       "      <td>0</td>\n",
       "      <td>0</td>\n",
       "    </tr>\n",
       "  </tbody>\n",
       "</table>\n",
       "</div>"
      ],
      "text/plain": [
       "   MB  NV MEALS  PB  VB  VFR  VMLS\n",
       "0   0         0   0   1    0     0\n",
       "1   0         0   0   0    1     0\n",
       "2   0         0   0   0    0     1\n",
       "3   0         1   0   0    0     0\n",
       "4   0         0   0   0    0     0"
      ]
     },
     "execution_count": 331,
     "metadata": {},
     "output_type": "execute_result"
    }
   ],
   "source": [
    "resto_Code.head()"
   ]
  },
  {
   "cell_type": "code",
   "execution_count": 332,
   "metadata": {},
   "outputs": [],
   "source": [
    "resto_Holiday = pd.get_dummies(resto['Holiday'], drop_first=True)"
   ]
  },
  {
   "cell_type": "code",
   "execution_count": 333,
   "metadata": {},
   "outputs": [
    {
     "data": {
      "text/html": [
       "<div>\n",
       "<style scoped>\n",
       "    .dataframe tbody tr th:only-of-type {\n",
       "        vertical-align: middle;\n",
       "    }\n",
       "\n",
       "    .dataframe tbody tr th {\n",
       "        vertical-align: top;\n",
       "    }\n",
       "\n",
       "    .dataframe thead th {\n",
       "        text-align: right;\n",
       "    }\n",
       "</style>\n",
       "<table border=\"1\" class=\"dataframe\">\n",
       "  <thead>\n",
       "    <tr style=\"text-align: right;\">\n",
       "      <th></th>\n",
       "      <th>New Year</th>\n",
       "      <th>Republic Day</th>\n",
       "      <th>Working Day</th>\n",
       "    </tr>\n",
       "  </thead>\n",
       "  <tbody>\n",
       "    <tr>\n",
       "      <th>0</th>\n",
       "      <td>1</td>\n",
       "      <td>0</td>\n",
       "      <td>0</td>\n",
       "    </tr>\n",
       "    <tr>\n",
       "      <th>1</th>\n",
       "      <td>1</td>\n",
       "      <td>0</td>\n",
       "      <td>0</td>\n",
       "    </tr>\n",
       "    <tr>\n",
       "      <th>2</th>\n",
       "      <td>1</td>\n",
       "      <td>0</td>\n",
       "      <td>0</td>\n",
       "    </tr>\n",
       "    <tr>\n",
       "      <th>3</th>\n",
       "      <td>1</td>\n",
       "      <td>0</td>\n",
       "      <td>0</td>\n",
       "    </tr>\n",
       "    <tr>\n",
       "      <th>4</th>\n",
       "      <td>1</td>\n",
       "      <td>0</td>\n",
       "      <td>0</td>\n",
       "    </tr>\n",
       "  </tbody>\n",
       "</table>\n",
       "</div>"
      ],
      "text/plain": [
       "   New Year  Republic Day  Working Day\n",
       "0         1             0            0\n",
       "1         1             0            0\n",
       "2         1             0            0\n",
       "3         1             0            0\n",
       "4         1             0            0"
      ]
     },
     "execution_count": 333,
     "metadata": {},
     "output_type": "execute_result"
    }
   ],
   "source": [
    "resto_Holiday.head()"
   ]
  },
  {
   "cell_type": "code",
   "execution_count": 334,
   "metadata": {},
   "outputs": [],
   "source": [
    "#Concatinating all dummies into original Data Frame\n",
    "resto = pd.concat([resto_Day,resto],axis=1)\n",
    "resto = pd.concat([resto_Code,resto],axis=1)\n",
    "resto = pd.concat([resto_Holiday,resto],axis=1)"
   ]
  },
  {
   "cell_type": "code",
   "execution_count": 335,
   "metadata": {},
   "outputs": [
    {
     "data": {
      "text/html": [
       "<div>\n",
       "<style scoped>\n",
       "    .dataframe tbody tr th:only-of-type {\n",
       "        vertical-align: middle;\n",
       "    }\n",
       "\n",
       "    .dataframe tbody tr th {\n",
       "        vertical-align: top;\n",
       "    }\n",
       "\n",
       "    .dataframe thead th {\n",
       "        text-align: right;\n",
       "    }\n",
       "</style>\n",
       "<table border=\"1\" class=\"dataframe\">\n",
       "  <thead>\n",
       "    <tr style=\"text-align: right;\">\n",
       "      <th></th>\n",
       "      <th>New Year</th>\n",
       "      <th>Republic Day</th>\n",
       "      <th>Working Day</th>\n",
       "      <th>MB</th>\n",
       "      <th>NV MEALS</th>\n",
       "      <th>PB</th>\n",
       "      <th>VB</th>\n",
       "      <th>VFR</th>\n",
       "      <th>VMLS</th>\n",
       "      <th>Monday</th>\n",
       "      <th>...</th>\n",
       "      <th>Tuesday</th>\n",
       "      <th>Wednesday</th>\n",
       "      <th>Date</th>\n",
       "      <th>Day</th>\n",
       "      <th>Code</th>\n",
       "      <th>Price</th>\n",
       "      <th>Qty_Prep_kg</th>\n",
       "      <th>Qty_Sold_kg</th>\n",
       "      <th>Holiday</th>\n",
       "      <th>Qty_wasted</th>\n",
       "    </tr>\n",
       "  </thead>\n",
       "  <tbody>\n",
       "    <tr>\n",
       "      <th>0</th>\n",
       "      <td>1</td>\n",
       "      <td>0</td>\n",
       "      <td>0</td>\n",
       "      <td>0</td>\n",
       "      <td>0</td>\n",
       "      <td>0</td>\n",
       "      <td>1</td>\n",
       "      <td>0</td>\n",
       "      <td>0</td>\n",
       "      <td>0</td>\n",
       "      <td>...</td>\n",
       "      <td>0</td>\n",
       "      <td>1</td>\n",
       "      <td>2020-01-01</td>\n",
       "      <td>Wednesday</td>\n",
       "      <td>VB</td>\n",
       "      <td>160</td>\n",
       "      <td>30</td>\n",
       "      <td>25</td>\n",
       "      <td>New Year</td>\n",
       "      <td>5</td>\n",
       "    </tr>\n",
       "    <tr>\n",
       "      <th>1</th>\n",
       "      <td>1</td>\n",
       "      <td>0</td>\n",
       "      <td>0</td>\n",
       "      <td>0</td>\n",
       "      <td>0</td>\n",
       "      <td>0</td>\n",
       "      <td>0</td>\n",
       "      <td>1</td>\n",
       "      <td>0</td>\n",
       "      <td>0</td>\n",
       "      <td>...</td>\n",
       "      <td>0</td>\n",
       "      <td>1</td>\n",
       "      <td>2020-01-01</td>\n",
       "      <td>Wednesday</td>\n",
       "      <td>VFR</td>\n",
       "      <td>180</td>\n",
       "      <td>30</td>\n",
       "      <td>28</td>\n",
       "      <td>New Year</td>\n",
       "      <td>2</td>\n",
       "    </tr>\n",
       "    <tr>\n",
       "      <th>2</th>\n",
       "      <td>1</td>\n",
       "      <td>0</td>\n",
       "      <td>0</td>\n",
       "      <td>0</td>\n",
       "      <td>0</td>\n",
       "      <td>0</td>\n",
       "      <td>0</td>\n",
       "      <td>0</td>\n",
       "      <td>1</td>\n",
       "      <td>0</td>\n",
       "      <td>...</td>\n",
       "      <td>0</td>\n",
       "      <td>1</td>\n",
       "      <td>2020-01-01</td>\n",
       "      <td>Wednesday</td>\n",
       "      <td>VMLS</td>\n",
       "      <td>190</td>\n",
       "      <td>45</td>\n",
       "      <td>30</td>\n",
       "      <td>New Year</td>\n",
       "      <td>15</td>\n",
       "    </tr>\n",
       "    <tr>\n",
       "      <th>3</th>\n",
       "      <td>1</td>\n",
       "      <td>0</td>\n",
       "      <td>0</td>\n",
       "      <td>0</td>\n",
       "      <td>1</td>\n",
       "      <td>0</td>\n",
       "      <td>0</td>\n",
       "      <td>0</td>\n",
       "      <td>0</td>\n",
       "      <td>0</td>\n",
       "      <td>...</td>\n",
       "      <td>0</td>\n",
       "      <td>1</td>\n",
       "      <td>2020-01-01</td>\n",
       "      <td>Wednesday</td>\n",
       "      <td>NV MEALS</td>\n",
       "      <td>225</td>\n",
       "      <td>60</td>\n",
       "      <td>46</td>\n",
       "      <td>New Year</td>\n",
       "      <td>14</td>\n",
       "    </tr>\n",
       "    <tr>\n",
       "      <th>4</th>\n",
       "      <td>1</td>\n",
       "      <td>0</td>\n",
       "      <td>0</td>\n",
       "      <td>0</td>\n",
       "      <td>0</td>\n",
       "      <td>0</td>\n",
       "      <td>0</td>\n",
       "      <td>0</td>\n",
       "      <td>0</td>\n",
       "      <td>0</td>\n",
       "      <td>...</td>\n",
       "      <td>0</td>\n",
       "      <td>1</td>\n",
       "      <td>2020-01-01</td>\n",
       "      <td>Wednesday</td>\n",
       "      <td>CB</td>\n",
       "      <td>265</td>\n",
       "      <td>60</td>\n",
       "      <td>60</td>\n",
       "      <td>New Year</td>\n",
       "      <td>0</td>\n",
       "    </tr>\n",
       "  </tbody>\n",
       "</table>\n",
       "<p>5 rows × 23 columns</p>\n",
       "</div>"
      ],
      "text/plain": [
       "   New Year  Republic Day  Working Day  MB  NV MEALS  PB  VB  VFR  VMLS  \\\n",
       "0         1             0            0   0         0   0   1    0     0   \n",
       "1         1             0            0   0         0   0   0    1     0   \n",
       "2         1             0            0   0         0   0   0    0     1   \n",
       "3         1             0            0   0         1   0   0    0     0   \n",
       "4         1             0            0   0         0   0   0    0     0   \n",
       "\n",
       "   Monday  ...  Tuesday  Wednesday       Date        Day      Code Price  \\\n",
       "0       0  ...        0          1 2020-01-01  Wednesday        VB   160   \n",
       "1       0  ...        0          1 2020-01-01  Wednesday       VFR   180   \n",
       "2       0  ...        0          1 2020-01-01  Wednesday      VMLS   190   \n",
       "3       0  ...        0          1 2020-01-01  Wednesday  NV MEALS   225   \n",
       "4       0  ...        0          1 2020-01-01  Wednesday        CB   265   \n",
       "\n",
       "  Qty_Prep_kg Qty_Sold_kg   Holiday  Qty_wasted  \n",
       "0          30          25  New Year           5  \n",
       "1          30          28  New Year           2  \n",
       "2          45          30  New Year          15  \n",
       "3          60          46  New Year          14  \n",
       "4          60          60  New Year           0  \n",
       "\n",
       "[5 rows x 23 columns]"
      ]
     },
     "execution_count": 335,
     "metadata": {},
     "output_type": "execute_result"
    }
   ],
   "source": [
    "resto.head()"
   ]
  },
  {
   "cell_type": "code",
   "execution_count": 336,
   "metadata": {},
   "outputs": [],
   "source": [
    "#deleting the original columns \n",
    "resto = resto.drop(['Day', 'Holiday', 'Code'],axis=1)"
   ]
  },
  {
   "cell_type": "code",
   "execution_count": 337,
   "metadata": {},
   "outputs": [
    {
     "data": {
      "text/html": [
       "<div>\n",
       "<style scoped>\n",
       "    .dataframe tbody tr th:only-of-type {\n",
       "        vertical-align: middle;\n",
       "    }\n",
       "\n",
       "    .dataframe tbody tr th {\n",
       "        vertical-align: top;\n",
       "    }\n",
       "\n",
       "    .dataframe thead th {\n",
       "        text-align: right;\n",
       "    }\n",
       "</style>\n",
       "<table border=\"1\" class=\"dataframe\">\n",
       "  <thead>\n",
       "    <tr style=\"text-align: right;\">\n",
       "      <th></th>\n",
       "      <th>New Year</th>\n",
       "      <th>Republic Day</th>\n",
       "      <th>Working Day</th>\n",
       "      <th>MB</th>\n",
       "      <th>NV MEALS</th>\n",
       "      <th>PB</th>\n",
       "      <th>VB</th>\n",
       "      <th>VFR</th>\n",
       "      <th>VMLS</th>\n",
       "      <th>Monday</th>\n",
       "      <th>Saturday</th>\n",
       "      <th>Sunday</th>\n",
       "      <th>Thursday</th>\n",
       "      <th>Tuesday</th>\n",
       "      <th>Wednesday</th>\n",
       "      <th>Date</th>\n",
       "      <th>Price</th>\n",
       "      <th>Qty_Prep_kg</th>\n",
       "      <th>Qty_Sold_kg</th>\n",
       "      <th>Qty_wasted</th>\n",
       "    </tr>\n",
       "  </thead>\n",
       "  <tbody>\n",
       "    <tr>\n",
       "      <th>0</th>\n",
       "      <td>1</td>\n",
       "      <td>0</td>\n",
       "      <td>0</td>\n",
       "      <td>0</td>\n",
       "      <td>0</td>\n",
       "      <td>0</td>\n",
       "      <td>1</td>\n",
       "      <td>0</td>\n",
       "      <td>0</td>\n",
       "      <td>0</td>\n",
       "      <td>0</td>\n",
       "      <td>0</td>\n",
       "      <td>0</td>\n",
       "      <td>0</td>\n",
       "      <td>1</td>\n",
       "      <td>2020-01-01</td>\n",
       "      <td>160</td>\n",
       "      <td>30</td>\n",
       "      <td>25</td>\n",
       "      <td>5</td>\n",
       "    </tr>\n",
       "    <tr>\n",
       "      <th>1</th>\n",
       "      <td>1</td>\n",
       "      <td>0</td>\n",
       "      <td>0</td>\n",
       "      <td>0</td>\n",
       "      <td>0</td>\n",
       "      <td>0</td>\n",
       "      <td>0</td>\n",
       "      <td>1</td>\n",
       "      <td>0</td>\n",
       "      <td>0</td>\n",
       "      <td>0</td>\n",
       "      <td>0</td>\n",
       "      <td>0</td>\n",
       "      <td>0</td>\n",
       "      <td>1</td>\n",
       "      <td>2020-01-01</td>\n",
       "      <td>180</td>\n",
       "      <td>30</td>\n",
       "      <td>28</td>\n",
       "      <td>2</td>\n",
       "    </tr>\n",
       "    <tr>\n",
       "      <th>2</th>\n",
       "      <td>1</td>\n",
       "      <td>0</td>\n",
       "      <td>0</td>\n",
       "      <td>0</td>\n",
       "      <td>0</td>\n",
       "      <td>0</td>\n",
       "      <td>0</td>\n",
       "      <td>0</td>\n",
       "      <td>1</td>\n",
       "      <td>0</td>\n",
       "      <td>0</td>\n",
       "      <td>0</td>\n",
       "      <td>0</td>\n",
       "      <td>0</td>\n",
       "      <td>1</td>\n",
       "      <td>2020-01-01</td>\n",
       "      <td>190</td>\n",
       "      <td>45</td>\n",
       "      <td>30</td>\n",
       "      <td>15</td>\n",
       "    </tr>\n",
       "    <tr>\n",
       "      <th>3</th>\n",
       "      <td>1</td>\n",
       "      <td>0</td>\n",
       "      <td>0</td>\n",
       "      <td>0</td>\n",
       "      <td>1</td>\n",
       "      <td>0</td>\n",
       "      <td>0</td>\n",
       "      <td>0</td>\n",
       "      <td>0</td>\n",
       "      <td>0</td>\n",
       "      <td>0</td>\n",
       "      <td>0</td>\n",
       "      <td>0</td>\n",
       "      <td>0</td>\n",
       "      <td>1</td>\n",
       "      <td>2020-01-01</td>\n",
       "      <td>225</td>\n",
       "      <td>60</td>\n",
       "      <td>46</td>\n",
       "      <td>14</td>\n",
       "    </tr>\n",
       "    <tr>\n",
       "      <th>4</th>\n",
       "      <td>1</td>\n",
       "      <td>0</td>\n",
       "      <td>0</td>\n",
       "      <td>0</td>\n",
       "      <td>0</td>\n",
       "      <td>0</td>\n",
       "      <td>0</td>\n",
       "      <td>0</td>\n",
       "      <td>0</td>\n",
       "      <td>0</td>\n",
       "      <td>0</td>\n",
       "      <td>0</td>\n",
       "      <td>0</td>\n",
       "      <td>0</td>\n",
       "      <td>1</td>\n",
       "      <td>2020-01-01</td>\n",
       "      <td>265</td>\n",
       "      <td>60</td>\n",
       "      <td>60</td>\n",
       "      <td>0</td>\n",
       "    </tr>\n",
       "  </tbody>\n",
       "</table>\n",
       "</div>"
      ],
      "text/plain": [
       "   New Year  Republic Day  Working Day  MB  NV MEALS  PB  VB  VFR  VMLS  \\\n",
       "0         1             0            0   0         0   0   1    0     0   \n",
       "1         1             0            0   0         0   0   0    1     0   \n",
       "2         1             0            0   0         0   0   0    0     1   \n",
       "3         1             0            0   0         1   0   0    0     0   \n",
       "4         1             0            0   0         0   0   0    0     0   \n",
       "\n",
       "   Monday  Saturday  Sunday  Thursday  Tuesday  Wednesday       Date  Price  \\\n",
       "0       0         0       0         0        0          1 2020-01-01    160   \n",
       "1       0         0       0         0        0          1 2020-01-01    180   \n",
       "2       0         0       0         0        0          1 2020-01-01    190   \n",
       "3       0         0       0         0        0          1 2020-01-01    225   \n",
       "4       0         0       0         0        0          1 2020-01-01    265   \n",
       "\n",
       "   Qty_Prep_kg  Qty_Sold_kg  Qty_wasted  \n",
       "0           30           25           5  \n",
       "1           30           28           2  \n",
       "2           45           30          15  \n",
       "3           60           46          14  \n",
       "4           60           60           0  "
      ]
     },
     "execution_count": 337,
     "metadata": {},
     "output_type": "execute_result"
    }
   ],
   "source": [
    "resto.head()"
   ]
  },
  {
   "cell_type": "code",
   "execution_count": 338,
   "metadata": {},
   "outputs": [
    {
     "name": "stdout",
     "output_type": "stream",
     "text": [
      "<class 'pandas.core.frame.DataFrame'>\n",
      "RangeIndex: 434 entries, 0 to 433\n",
      "Data columns (total 20 columns):\n",
      " #   Column        Non-Null Count  Dtype         \n",
      "---  ------        --------------  -----         \n",
      " 0   New Year      434 non-null    uint8         \n",
      " 1   Republic Day  434 non-null    uint8         \n",
      " 2   Working Day   434 non-null    uint8         \n",
      " 3   MB            434 non-null    uint8         \n",
      " 4   NV MEALS      434 non-null    uint8         \n",
      " 5   PB            434 non-null    uint8         \n",
      " 6   VB            434 non-null    uint8         \n",
      " 7   VFR           434 non-null    uint8         \n",
      " 8   VMLS          434 non-null    uint8         \n",
      " 9   Monday        434 non-null    uint8         \n",
      " 10  Saturday      434 non-null    uint8         \n",
      " 11  Sunday        434 non-null    uint8         \n",
      " 12  Thursday      434 non-null    uint8         \n",
      " 13  Tuesday       434 non-null    uint8         \n",
      " 14  Wednesday     434 non-null    uint8         \n",
      " 15  Date          434 non-null    datetime64[ns]\n",
      " 16  Price         434 non-null    int64         \n",
      " 17  Qty_Prep_kg   434 non-null    int64         \n",
      " 18  Qty_Sold_kg   434 non-null    int64         \n",
      " 19  Qty_wasted    434 non-null    int64         \n",
      "dtypes: datetime64[ns](1), int64(4), uint8(15)\n",
      "memory usage: 23.4 KB\n"
     ]
    }
   ],
   "source": [
    "resto.info()"
   ]
  },
  {
   "cell_type": "markdown",
   "metadata": {},
   "source": [
    "#### Now we have all features as Int or Float object"
   ]
  },
  {
   "cell_type": "code",
   "execution_count": 339,
   "metadata": {},
   "outputs": [],
   "source": [
    "#checking correlation\n",
    "corr = resto.corr()"
   ]
  },
  {
   "cell_type": "code",
   "execution_count": 340,
   "metadata": {},
   "outputs": [
    {
     "data": {
      "image/png": "[encoded data removed]",
      "text/plain": [
       "<Figure size 1440x1080 with 2 Axes>"
      ]
     },
     "metadata": {
      "needs_background": "light"
     },
     "output_type": "display_data"
    }
   ],
   "source": [
    "plt.figure(figsize=(20,15))\n",
    "sns.heatmap(corr,cmap='Greens', annot=True)\n",
    "plt.show()"
   ]
  },
  {
   "cell_type": "code",
   "execution_count": 341,
   "metadata": {},
   "outputs": [
    {
     "data": {
      "text/plain": [
       "Index(['New Year', 'Republic Day', 'Working Day', 'MB', 'NV MEALS', 'PB', 'VB',\n",
       "       'VFR', 'VMLS', 'Monday', 'Saturday', 'Sunday', 'Thursday', 'Tuesday',\n",
       "       'Wednesday', 'Date', 'Price', 'Qty_Prep_kg', 'Qty_Sold_kg',\n",
       "       'Qty_wasted'],\n",
       "      dtype='object')"
      ]
     },
     "execution_count": 341,
     "metadata": {},
     "output_type": "execute_result"
    }
   ],
   "source": [
    "resto.columns"
   ]
  },
  {
   "cell_type": "code",
   "execution_count": 342,
   "metadata": {},
   "outputs": [
    {
     "data": {
      "text/plain": [
       "<seaborn.axisgrid.PairGrid at 0x2025c626550>"
      ]
     },
     "execution_count": 342,
     "metadata": {},
     "output_type": "execute_result"
    },
    {
     "data": {
      "image/png": "[encoded data removed]",
      "text/plain": [
       "<Figure size 540x540 with 12 Axes>"
      ]
     },
     "metadata": {
      "needs_background": "light"
     },
     "output_type": "display_data"
    }
   ],
   "source": [
    "#Ploting Scatterplot\n",
    "sns.pairplot(resto, vars=['Qty_Sold_kg', 'Qty_Prep_kg', 'Qty_wasted'])"
   ]
  },
  {
   "cell_type": "code",
   "execution_count": 343,
   "metadata": {},
   "outputs": [
    {
     "data": {
      "text/html": [
       "<div>\n",
       "<style scoped>\n",
       "    .dataframe tbody tr th:only-of-type {\n",
       "        vertical-align: middle;\n",
       "    }\n",
       "\n",
       "    .dataframe tbody tr th {\n",
       "        vertical-align: top;\n",
       "    }\n",
       "\n",
       "    .dataframe thead th {\n",
       "        text-align: right;\n",
       "    }\n",
       "</style>\n",
       "<table border=\"1\" class=\"dataframe\">\n",
       "  <thead>\n",
       "    <tr style=\"text-align: right;\">\n",
       "      <th></th>\n",
       "      <th>New Year</th>\n",
       "      <th>Republic Day</th>\n",
       "      <th>Working Day</th>\n",
       "      <th>MB</th>\n",
       "      <th>NV MEALS</th>\n",
       "      <th>PB</th>\n",
       "      <th>VB</th>\n",
       "      <th>VFR</th>\n",
       "      <th>VMLS</th>\n",
       "      <th>Monday</th>\n",
       "      <th>Saturday</th>\n",
       "      <th>Sunday</th>\n",
       "      <th>Thursday</th>\n",
       "      <th>Tuesday</th>\n",
       "      <th>Wednesday</th>\n",
       "      <th>Date</th>\n",
       "      <th>Price</th>\n",
       "      <th>Qty_Prep_kg</th>\n",
       "      <th>Qty_Sold_kg</th>\n",
       "      <th>Qty_wasted</th>\n",
       "    </tr>\n",
       "  </thead>\n",
       "  <tbody>\n",
       "    <tr>\n",
       "      <th>0</th>\n",
       "      <td>1</td>\n",
       "      <td>0</td>\n",
       "      <td>0</td>\n",
       "      <td>0</td>\n",
       "      <td>0</td>\n",
       "      <td>0</td>\n",
       "      <td>1</td>\n",
       "      <td>0</td>\n",
       "      <td>0</td>\n",
       "      <td>0</td>\n",
       "      <td>0</td>\n",
       "      <td>0</td>\n",
       "      <td>0</td>\n",
       "      <td>0</td>\n",
       "      <td>1</td>\n",
       "      <td>2020-01-01</td>\n",
       "      <td>160</td>\n",
       "      <td>30</td>\n",
       "      <td>25</td>\n",
       "      <td>5</td>\n",
       "    </tr>\n",
       "    <tr>\n",
       "      <th>1</th>\n",
       "      <td>1</td>\n",
       "      <td>0</td>\n",
       "      <td>0</td>\n",
       "      <td>0</td>\n",
       "      <td>0</td>\n",
       "      <td>0</td>\n",
       "      <td>0</td>\n",
       "      <td>1</td>\n",
       "      <td>0</td>\n",
       "      <td>0</td>\n",
       "      <td>0</td>\n",
       "      <td>0</td>\n",
       "      <td>0</td>\n",
       "      <td>0</td>\n",
       "      <td>1</td>\n",
       "      <td>2020-01-01</td>\n",
       "      <td>180</td>\n",
       "      <td>30</td>\n",
       "      <td>28</td>\n",
       "      <td>2</td>\n",
       "    </tr>\n",
       "    <tr>\n",
       "      <th>2</th>\n",
       "      <td>1</td>\n",
       "      <td>0</td>\n",
       "      <td>0</td>\n",
       "      <td>0</td>\n",
       "      <td>0</td>\n",
       "      <td>0</td>\n",
       "      <td>0</td>\n",
       "      <td>0</td>\n",
       "      <td>1</td>\n",
       "      <td>0</td>\n",
       "      <td>0</td>\n",
       "      <td>0</td>\n",
       "      <td>0</td>\n",
       "      <td>0</td>\n",
       "      <td>1</td>\n",
       "      <td>2020-01-01</td>\n",
       "      <td>190</td>\n",
       "      <td>45</td>\n",
       "      <td>30</td>\n",
       "      <td>15</td>\n",
       "    </tr>\n",
       "    <tr>\n",
       "      <th>3</th>\n",
       "      <td>1</td>\n",
       "      <td>0</td>\n",
       "      <td>0</td>\n",
       "      <td>0</td>\n",
       "      <td>1</td>\n",
       "      <td>0</td>\n",
       "      <td>0</td>\n",
       "      <td>0</td>\n",
       "      <td>0</td>\n",
       "      <td>0</td>\n",
       "      <td>0</td>\n",
       "      <td>0</td>\n",
       "      <td>0</td>\n",
       "      <td>0</td>\n",
       "      <td>1</td>\n",
       "      <td>2020-01-01</td>\n",
       "      <td>225</td>\n",
       "      <td>60</td>\n",
       "      <td>46</td>\n",
       "      <td>14</td>\n",
       "    </tr>\n",
       "    <tr>\n",
       "      <th>4</th>\n",
       "      <td>1</td>\n",
       "      <td>0</td>\n",
       "      <td>0</td>\n",
       "      <td>0</td>\n",
       "      <td>0</td>\n",
       "      <td>0</td>\n",
       "      <td>0</td>\n",
       "      <td>0</td>\n",
       "      <td>0</td>\n",
       "      <td>0</td>\n",
       "      <td>0</td>\n",
       "      <td>0</td>\n",
       "      <td>0</td>\n",
       "      <td>0</td>\n",
       "      <td>1</td>\n",
       "      <td>2020-01-01</td>\n",
       "      <td>265</td>\n",
       "      <td>60</td>\n",
       "      <td>60</td>\n",
       "      <td>0</td>\n",
       "    </tr>\n",
       "  </tbody>\n",
       "</table>\n",
       "</div>"
      ],
      "text/plain": [
       "   New Year  Republic Day  Working Day  MB  NV MEALS  PB  VB  VFR  VMLS  \\\n",
       "0         1             0            0   0         0   0   1    0     0   \n",
       "1         1             0            0   0         0   0   0    1     0   \n",
       "2         1             0            0   0         0   0   0    0     1   \n",
       "3         1             0            0   0         1   0   0    0     0   \n",
       "4         1             0            0   0         0   0   0    0     0   \n",
       "\n",
       "   Monday  Saturday  Sunday  Thursday  Tuesday  Wednesday       Date  Price  \\\n",
       "0       0         0       0         0        0          1 2020-01-01    160   \n",
       "1       0         0       0         0        0          1 2020-01-01    180   \n",
       "2       0         0       0         0        0          1 2020-01-01    190   \n",
       "3       0         0       0         0        0          1 2020-01-01    225   \n",
       "4       0         0       0         0        0          1 2020-01-01    265   \n",
       "\n",
       "   Qty_Prep_kg  Qty_Sold_kg  Qty_wasted  \n",
       "0           30           25           5  \n",
       "1           30           28           2  \n",
       "2           45           30          15  \n",
       "3           60           46          14  \n",
       "4           60           60           0  "
      ]
     },
     "execution_count": 343,
     "metadata": {},
     "output_type": "execute_result"
    }
   ],
   "source": [
    "resto.head()"
   ]
  },
  {
   "cell_type": "markdown",
   "metadata": {},
   "source": [
    "#### X and Y Split"
   ]
  },
  {
   "cell_type": "code",
   "execution_count": 344,
   "metadata": {},
   "outputs": [],
   "source": [
    "# Putting feature variable to X\n",
    "filtered_data = resto[['New Year', 'Republic Day', 'Working Day', 'MB', 'NV MEALS', 'PB', 'VB',\n",
    "       'VFR', 'VMLS', 'Monday', 'Saturday', 'Sunday', 'Thursday', 'Tuesday',\n",
    "       'Wednesday',  'Price', 'Qty_Prep_kg', 'Qty_Sold_kg']]\n",
    "\n",
    "\n",
    "X = filtered_data.values\n",
    "\n",
    "# Putting response variable to y\n",
    "y = resto.Qty_wasted.values"
   ]
  },
  {
   "cell_type": "markdown",
   "metadata": {},
   "source": [
    "#### Splitting into Test train DataSets"
   ]
  },
  {
   "cell_type": "code",
   "execution_count": 345,
   "metadata": {},
   "outputs": [],
   "source": [
    "from sklearn.model_selection import train_test_split"
   ]
  },
  {
   "cell_type": "code",
   "execution_count": 346,
   "metadata": {},
   "outputs": [],
   "source": [
    "X_train, X_test, y_train,y_test = train_test_split(X, y, train_size=0.7, random_state=40 )"
   ]
  },
  {
   "cell_type": "markdown",
   "metadata": {},
   "source": [
    "#### Scaling"
   ]
  },
  {
   "cell_type": "code",
   "execution_count": 347,
   "metadata": {},
   "outputs": [],
   "source": [
    "#importing Scaler --> Normalization\n",
    "#from sklearn.preprocessing import MinMaxScaler"
   ]
  },
  {
   "cell_type": "code",
   "execution_count": 348,
   "metadata": {},
   "outputs": [],
   "source": [
    "#intializing Scaler Object\n",
    "#scaler = MinMaxScaler()"
   ]
  },
  {
   "cell_type": "code",
   "execution_count": 349,
   "metadata": {},
   "outputs": [],
   "source": [
    " ###scaler.fit()"
   ]
  },
  {
   "cell_type": "markdown",
   "metadata": {},
   "source": [
    "#### Lets Build Our Model - AdaBoost"
   ]
  },
  {
   "cell_type": "code",
   "execution_count": 350,
   "metadata": {},
   "outputs": [],
   "source": [
    "from sklearn.ensemble import AdaBoostRegressor\n",
    "from sklearn.metrics import r2_score\n",
    "from sklearn.metrics import explained_variance_score,mean_squared_error\n",
    "import math"
   ]
  },
  {
   "cell_type": "code",
   "execution_count": 355,
   "metadata": {},
   "outputs": [],
   "source": [
    "adaboost = AdaBoostRegressor(n_estimators=50,learning_rate=0.2,loss='exponential').fit(X_train, y_train)\n",
    "predict = adaboost.predict(X_test)\n",
    "r2score = r2_score(predict,y_test)"
   ]
  },
  {
   "cell_type": "code",
   "execution_count": 356,
   "metadata": {},
   "outputs": [
    {
     "data": {
      "text/plain": [
       "-0.27715338669144374"
      ]
     },
     "execution_count": 356,
     "metadata": {},
     "output_type": "execute_result"
    }
   ],
   "source": [
    "r2score"
   ]
  },
  {
   "cell_type": "code",
   "execution_count": 357,
   "metadata": {},
   "outputs": [
    {
     "name": "stdout",
     "output_type": "stream",
     "text": [
      "2.665435743468641\n"
     ]
    }
   ],
   "source": [
    "# Calculating Mean Sqaured Error & Root Mean Squared Error\n",
    "mse = mean_squared_error(y_test, predict)\n",
    "\n",
    "rmse = math.sqrt(mse)\n",
    "\n",
    "print(rmse)"
   ]
  },
  {
   "cell_type": "markdown",
   "metadata": {},
   "source": [
    "#### Lets Build Our Model - Decision Tree"
   ]
  },
  {
   "cell_type": "code",
   "execution_count": null,
   "metadata": {},
   "outputs": [],
   "source": []
  },
  {
   "cell_type": "code",
   "execution_count": null,
   "metadata": {},
   "outputs": [],
   "source": []
  }
 ],
 "metadata": {
  "kernelspec": {
   "display_name": "Python 3",
   "language": "python",
   "name": "python3"
  },
  "language_info": {
   "codemirror_mode": {
    "name": "ipython",
    "version": 3
   },
   "file_extension": ".py",
   "mimetype": "text/x-python",
   "name": "python",
   "nbconvert_exporter": "python",
   "pygments_lexer": "ipython3",
   "version": "3.8.3"
  }
 },
 "nbformat": 4,
 "nbformat_minor": 4
}

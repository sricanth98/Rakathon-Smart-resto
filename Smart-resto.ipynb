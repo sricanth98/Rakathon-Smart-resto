{
 "cells": [
  {
   "cell_type": "markdown",
   "metadata": {},
   "source": [
    "# <font color=blue>Smart-resto</font>"
   ]
  },
  {
   "cell_type": "markdown",
   "metadata": {},
   "source": [
    "<b><font color=orange>Problem Statement :</font></b>\n",
    "\n",
    "~40 %   of the food produced in India is wasted.<br>\n",
    "~84.7 % of the total food waste recorded was thrown in the bin. <br>\n",
    "~18.7kgs  of food are disposed off by one Safal outlet daily. \n"
   ]
  },
  {
   "cell_type": "markdown",
   "metadata": {},
   "source": [
    "\n",
    "    \n",
    " - A significant portion of the food waste binned was still in edible condition.\n",
    "\n",
    " - One of root cause could be due to more Supply of foods when there is less demand.\n",
    "\n",
    " - There is no adequate information or prediction about food sales on daily basis"
   ]
  },
  {
   "cell_type": "code",
<<<<<<< Updated upstream
   "execution_count": 915,
=======
   "execution_count": 70,
>>>>>>> Stashed changes
   "metadata": {},
   "outputs": [],
   "source": [
    "#importing libraries\n",
    "import pandas as pd\n",
    "import numpy as np\n",
    "\n",
    "#importing libraries for plots and graphs\n",
    "import matplotlib.pyplot as plt\n",
    "import seaborn as sns\n",
    "\n",
    "from __future__ import division"
   ]
  },
  {
   "cell_type": "code",
<<<<<<< Updated upstream
   "execution_count": 916,
=======
   "execution_count": 71,
>>>>>>> Stashed changes
   "metadata": {},
   "outputs": [],
   "source": [
    "#Pandas Dataframe\n",
    "resto = pd.read_csv('Resto-new.csv')"
   ]
  },
  {
   "cell_type": "code",
<<<<<<< Updated upstream
   "execution_count": 917,
=======
   "execution_count": 72,
>>>>>>> Stashed changes
   "metadata": {},
   "outputs": [
    {
     "data": {
      "text/html": [
       "<div>\n",
       "<style scoped>\n",
       "    .dataframe tbody tr th:only-of-type {\n",
       "        vertical-align: middle;\n",
       "    }\n",
       "\n",
       "    .dataframe tbody tr th {\n",
       "        vertical-align: top;\n",
       "    }\n",
       "\n",
       "    .dataframe thead th {\n",
       "        text-align: right;\n",
       "    }\n",
       "</style>\n",
       "<table border=\"1\" class=\"dataframe\">\n",
       "  <thead>\n",
       "    <tr style=\"text-align: right;\">\n",
       "      <th></th>\n",
       "      <th>Resto Name</th>\n",
       "      <th>Address</th>\n",
       "      <th>Registration No</th>\n",
       "      <th>Date</th>\n",
       "      <th>Day</th>\n",
       "      <th>Menu</th>\n",
       "      <th>Code</th>\n",
       "      <th>Type</th>\n",
       "      <th>Price</th>\n",
       "      <th>Qty_Prep_kg</th>\n",
       "      <th>Qty_Sold_kg</th>\n",
       "      <th>Holiday</th>\n",
       "    </tr>\n",
       "  </thead>\n",
       "  <tbody>\n",
       "    <tr>\n",
       "      <th>0</th>\n",
       "      <td>Anjappar</td>\n",
       "      <td>Mylapore</td>\n",
       "      <td>23456</td>\n",
       "      <td>01-01-2020</td>\n",
       "      <td>Wednesday</td>\n",
       "      <td>Vegetable Briyani</td>\n",
       "      <td>VB</td>\n",
       "      <td>Lunch</td>\n",
       "      <td>160</td>\n",
       "      <td>30</td>\n",
       "      <td>25</td>\n",
       "      <td>New Year</td>\n",
       "    </tr>\n",
       "    <tr>\n",
       "      <th>1</th>\n",
       "      <td>Anjappar</td>\n",
       "      <td>Mylapore</td>\n",
       "      <td>23456</td>\n",
       "      <td>01-01-2020</td>\n",
       "      <td>Wednesday</td>\n",
       "      <td>Vegretable Fried Rice</td>\n",
       "      <td>VFR</td>\n",
       "      <td>Lunch</td>\n",
       "      <td>180</td>\n",
       "      <td>30</td>\n",
       "      <td>28</td>\n",
       "      <td>New Year</td>\n",
       "    </tr>\n",
       "    <tr>\n",
       "      <th>2</th>\n",
       "      <td>Anjappar</td>\n",
       "      <td>Mylapore</td>\n",
       "      <td>23456</td>\n",
       "      <td>01-01-2020</td>\n",
       "      <td>Wednesday</td>\n",
       "      <td>Veg thali meals</td>\n",
       "      <td>VMLS</td>\n",
       "      <td>Lunch</td>\n",
       "      <td>190</td>\n",
       "      <td>45</td>\n",
       "      <td>30</td>\n",
       "      <td>New Year</td>\n",
       "    </tr>\n",
       "    <tr>\n",
       "      <th>3</th>\n",
       "      <td>Anjappar</td>\n",
       "      <td>Mylapore</td>\n",
       "      <td>23456</td>\n",
       "      <td>01-01-2020</td>\n",
       "      <td>Wednesday</td>\n",
       "      <td>Non-veg thali meals</td>\n",
       "      <td>NV MEALS</td>\n",
       "      <td>Lunch</td>\n",
       "      <td>225</td>\n",
       "      <td>60</td>\n",
       "      <td>46</td>\n",
       "      <td>New Year</td>\n",
       "    </tr>\n",
       "    <tr>\n",
       "      <th>4</th>\n",
       "      <td>Anjappar</td>\n",
       "      <td>Mylapore</td>\n",
       "      <td>23456</td>\n",
       "      <td>01-01-2020</td>\n",
       "      <td>Wednesday</td>\n",
       "      <td>Chicken Briyani</td>\n",
       "      <td>CB</td>\n",
       "      <td>Lunch</td>\n",
       "      <td>265</td>\n",
       "      <td>60</td>\n",
       "      <td>60</td>\n",
       "      <td>New Year</td>\n",
       "    </tr>\n",
       "  </tbody>\n",
       "</table>\n",
       "</div>"
      ],
      "text/plain": [
       "  Resto Name    Address  Registration No        Date        Day  \\\n",
       "0    Anjappar  Mylapore            23456  01-01-2020  Wednesday   \n",
       "1    Anjappar  Mylapore            23456  01-01-2020  Wednesday   \n",
       "2    Anjappar  Mylapore            23456  01-01-2020  Wednesday   \n",
       "3    Anjappar  Mylapore            23456  01-01-2020  Wednesday   \n",
       "4    Anjappar  Mylapore            23456  01-01-2020  Wednesday   \n",
       "\n",
       "                    Menu      Code   Type  Price  Qty_Prep_kg  Qty_Sold_kg  \\\n",
       "0      Vegetable Briyani        VB  Lunch    160           30           25   \n",
       "1  Vegretable Fried Rice       VFR  Lunch    180           30           28   \n",
       "2       Veg thali meals       VMLS  Lunch    190           45           30   \n",
       "3   Non-veg thali meals   NV MEALS  Lunch    225           60           46   \n",
       "4        Chicken Briyani        CB  Lunch    265           60           60   \n",
       "\n",
       "    Holiday  \n",
       "0  New Year  \n",
       "1  New Year  \n",
       "2  New Year  \n",
       "3  New Year  \n",
       "4  New Year  "
      ]
     },
<<<<<<< Updated upstream
     "execution_count": 917,
=======
     "execution_count": 72,
>>>>>>> Stashed changes
     "metadata": {},
     "output_type": "execute_result"
    }
   ],
   "source": [
    "#Reading the Dataframe\n",
    "resto.head()"
   ]
  },
  {
   "cell_type": "code",
<<<<<<< Updated upstream
   "execution_count": 918,
=======
   "execution_count": 73,
>>>>>>> Stashed changes
   "metadata": {},
   "outputs": [
    {
     "name": "stdout",
     "output_type": "stream",
     "text": [
      "<class 'pandas.core.frame.DataFrame'>\n",
      "RangeIndex: 434 entries, 0 to 433\n",
      "Data columns (total 12 columns):\n",
      " #   Column           Non-Null Count  Dtype \n",
      "---  ------           --------------  ----- \n",
      " 0   Resto Name       434 non-null    object\n",
      " 1   Address          434 non-null    object\n",
      " 2   Registration No  434 non-null    int64 \n",
      " 3   Date             434 non-null    object\n",
      " 4   Day              434 non-null    object\n",
      " 5   Menu             434 non-null    object\n",
      " 6   Code             434 non-null    object\n",
      " 7   Type             434 non-null    object\n",
      " 8   Price            434 non-null    int64 \n",
      " 9   Qty_Prep_kg      434 non-null    int64 \n",
      " 10  Qty_Sold_kg      434 non-null    int64 \n",
      " 11  Holiday          434 non-null    object\n",
      "dtypes: int64(4), object(8)\n",
      "memory usage: 40.8+ KB\n"
     ]
    }
   ],
   "source": [
    "resto.info()"
   ]
  },
  {
   "cell_type": "markdown",
   "metadata": {},
   "source": [
    "#### Derived column "
   ]
  },
  {
   "cell_type": "code",
<<<<<<< Updated upstream
   "execution_count": 919,
=======
   "execution_count": 74,
>>>>>>> Stashed changes
   "metadata": {},
   "outputs": [],
   "source": [
    "#This Qty_wasted will be our target variable\n",
    "resto['Qty_wasted'] = resto['Qty_Prep_kg'] - resto['Qty_Sold_kg']"
   ]
  },
  {
   "cell_type": "code",
<<<<<<< Updated upstream
   "execution_count": 920,
=======
   "execution_count": 75,
>>>>>>> Stashed changes
   "metadata": {},
   "outputs": [
    {
     "name": "stdout",
     "output_type": "stream",
     "text": [
      "0  /  13\n"
     ]
    }
   ],
   "source": [
    "# Check any number of columns with NaN or missing values \n",
    "print(resto.isnull().any().sum(), ' / ', len(resto.columns))"
   ]
  },
  {
   "cell_type": "code",
<<<<<<< Updated upstream
   "execution_count": 921,
=======
   "execution_count": 76,
>>>>>>> Stashed changes
   "metadata": {},
   "outputs": [
    {
     "name": "stdout",
     "output_type": "stream",
     "text": [
      "0  /  434\n"
     ]
    }
   ],
   "source": [
    "# Check any number of data points with NaN\n",
    "print(resto.isnull().any(axis=1).sum(), ' / ', len(resto))"
   ]
  },
  {
   "cell_type": "markdown",
   "metadata": {},
   "source": [
    "#### Good , We have no missing values "
   ]
  },
  {
   "cell_type": "code",
<<<<<<< Updated upstream
   "execution_count": 922,
=======
   "execution_count": 77,
>>>>>>> Stashed changes
   "metadata": {},
   "outputs": [],
   "source": [
    "#Purging Resto name, address and registration column\n",
    "resto = resto.drop(['Resto Name ','Address', 'Registration No', 'Type', 'Menu'],axis=1)"
   ]
  },
  {
   "cell_type": "code",
<<<<<<< Updated upstream
   "execution_count": 923,
=======
   "execution_count": 78,
>>>>>>> Stashed changes
   "metadata": {},
   "outputs": [
    {
     "data": {
      "text/plain": [
       "(434, 8)"
      ]
     },
<<<<<<< Updated upstream
     "execution_count": 923,
=======
     "execution_count": 78,
>>>>>>> Stashed changes
     "metadata": {},
     "output_type": "execute_result"
    }
   ],
   "source": [
    "resto.shape"
   ]
  },
  {
   "cell_type": "code",
<<<<<<< Updated upstream
   "execution_count": 924,
=======
   "execution_count": 79,
>>>>>>> Stashed changes
   "metadata": {},
   "outputs": [],
   "source": [
    " resto['Date'] = pd.to_datetime(resto['Date'], format='%d-%m-%Y', errors='coerce')"
   ]
  },
  {
   "cell_type": "code",
<<<<<<< Updated upstream
   "execution_count": 925,
=======
   "execution_count": 80,
>>>>>>> Stashed changes
   "metadata": {},
   "outputs": [
    {
     "name": "stdout",
     "output_type": "stream",
     "text": [
      "0  /  8\n"
     ]
    }
   ],
   "source": [
    "# Check any number of columns with NaN or missing values \n",
    "print(resto.isnull().any().sum(), ' / ', len(resto.columns))"
   ]
  },
  {
   "cell_type": "code",
<<<<<<< Updated upstream
   "execution_count": 926,
=======
   "execution_count": 81,
>>>>>>> Stashed changes
   "metadata": {},
   "outputs": [
    {
     "data": {
      "text/html": [
       "<div>\n",
       "<style scoped>\n",
       "    .dataframe tbody tr th:only-of-type {\n",
       "        vertical-align: middle;\n",
       "    }\n",
       "\n",
       "    .dataframe tbody tr th {\n",
       "        vertical-align: top;\n",
       "    }\n",
       "\n",
       "    .dataframe thead th {\n",
       "        text-align: right;\n",
       "    }\n",
       "</style>\n",
       "<table border=\"1\" class=\"dataframe\">\n",
       "  <thead>\n",
       "    <tr style=\"text-align: right;\">\n",
       "      <th></th>\n",
       "      <th>Date</th>\n",
       "      <th>Day</th>\n",
       "      <th>Code</th>\n",
       "      <th>Price</th>\n",
       "      <th>Qty_Prep_kg</th>\n",
       "      <th>Qty_Sold_kg</th>\n",
       "      <th>Holiday</th>\n",
       "      <th>Qty_wasted</th>\n",
       "    </tr>\n",
       "  </thead>\n",
       "  <tbody>\n",
       "  </tbody>\n",
       "</table>\n",
       "</div>"
      ],
      "text/plain": [
       "Empty DataFrame\n",
       "Columns: [Date, Day, Code, Price, Qty_Prep_kg, Qty_Sold_kg, Holiday, Qty_wasted]\n",
       "Index: []"
      ]
     },
<<<<<<< Updated upstream
     "execution_count": 926,
=======
     "execution_count": 81,
>>>>>>> Stashed changes
     "metadata": {},
     "output_type": "execute_result"
    }
   ],
   "source": [
    "resto[resto['Date'].isnull()]"
   ]
  },
  {
   "cell_type": "code",
<<<<<<< Updated upstream
   "execution_count": 927,
=======
   "execution_count": 82,
>>>>>>> Stashed changes
   "metadata": {},
   "outputs": [
    {
     "data": {
      "text/html": [
       "<div>\n",
       "<style scoped>\n",
       "    .dataframe tbody tr th:only-of-type {\n",
       "        vertical-align: middle;\n",
       "    }\n",
       "\n",
       "    .dataframe tbody tr th {\n",
       "        vertical-align: top;\n",
       "    }\n",
       "\n",
       "    .dataframe thead th {\n",
       "        text-align: right;\n",
       "    }\n",
       "</style>\n",
       "<table border=\"1\" class=\"dataframe\">\n",
       "  <thead>\n",
       "    <tr style=\"text-align: right;\">\n",
       "      <th></th>\n",
       "      <th>Date</th>\n",
       "      <th>Day</th>\n",
       "      <th>Code</th>\n",
       "      <th>Price</th>\n",
       "      <th>Qty_Prep_kg</th>\n",
       "      <th>Qty_Sold_kg</th>\n",
       "      <th>Holiday</th>\n",
       "      <th>Qty_wasted</th>\n",
       "    </tr>\n",
       "  </thead>\n",
       "  <tbody>\n",
       "    <tr>\n",
       "      <th>0</th>\n",
       "      <td>2020-01-01</td>\n",
       "      <td>Wednesday</td>\n",
       "      <td>VB</td>\n",
       "      <td>160</td>\n",
       "      <td>30</td>\n",
       "      <td>25</td>\n",
       "      <td>New Year</td>\n",
       "      <td>5</td>\n",
       "    </tr>\n",
       "    <tr>\n",
       "      <th>1</th>\n",
       "      <td>2020-01-01</td>\n",
       "      <td>Wednesday</td>\n",
       "      <td>VFR</td>\n",
       "      <td>180</td>\n",
       "      <td>30</td>\n",
       "      <td>28</td>\n",
       "      <td>New Year</td>\n",
       "      <td>2</td>\n",
       "    </tr>\n",
       "    <tr>\n",
       "      <th>2</th>\n",
       "      <td>2020-01-01</td>\n",
       "      <td>Wednesday</td>\n",
       "      <td>VMLS</td>\n",
       "      <td>190</td>\n",
       "      <td>45</td>\n",
       "      <td>30</td>\n",
       "      <td>New Year</td>\n",
       "      <td>15</td>\n",
       "    </tr>\n",
       "    <tr>\n",
       "      <th>3</th>\n",
       "      <td>2020-01-01</td>\n",
       "      <td>Wednesday</td>\n",
       "      <td>NV MEALS</td>\n",
       "      <td>225</td>\n",
       "      <td>60</td>\n",
       "      <td>46</td>\n",
       "      <td>New Year</td>\n",
       "      <td>14</td>\n",
       "    </tr>\n",
       "    <tr>\n",
       "      <th>4</th>\n",
       "      <td>2020-01-01</td>\n",
       "      <td>Wednesday</td>\n",
       "      <td>CB</td>\n",
       "      <td>265</td>\n",
       "      <td>60</td>\n",
       "      <td>60</td>\n",
       "      <td>New Year</td>\n",
       "      <td>0</td>\n",
       "    </tr>\n",
       "  </tbody>\n",
       "</table>\n",
       "</div>"
      ],
      "text/plain": [
       "        Date        Day      Code  Price  Qty_Prep_kg  Qty_Sold_kg   Holiday  \\\n",
       "0 2020-01-01  Wednesday        VB    160           30           25  New Year   \n",
       "1 2020-01-01  Wednesday       VFR    180           30           28  New Year   \n",
       "2 2020-01-01  Wednesday      VMLS    190           45           30  New Year   \n",
       "3 2020-01-01  Wednesday  NV MEALS    225           60           46  New Year   \n",
       "4 2020-01-01  Wednesday        CB    265           60           60  New Year   \n",
       "\n",
       "   Qty_wasted  \n",
       "0           5  \n",
       "1           2  \n",
       "2          15  \n",
       "3          14  \n",
       "4           0  "
      ]
     },
<<<<<<< Updated upstream
     "execution_count": 927,
=======
     "execution_count": 82,
>>>>>>> Stashed changes
     "metadata": {},
     "output_type": "execute_result"
    }
   ],
   "source": [
    "resto.head()"
   ]
  },
  {
   "cell_type": "markdown",
   "metadata": {},
   "source": [
    "### One Hot Encoding "
   ]
  },
  {
   "cell_type": "code",
<<<<<<< Updated upstream
   "execution_count": 928,
=======
   "execution_count": 83,
>>>>>>> Stashed changes
   "metadata": {},
   "outputs": [],
   "source": [
    "resto_Day = pd.get_dummies(resto['Day'], drop_first=True)"
   ]
  },
  {
   "cell_type": "code",
<<<<<<< Updated upstream
   "execution_count": 929,
=======
   "execution_count": 84,
>>>>>>> Stashed changes
   "metadata": {},
   "outputs": [
    {
     "data": {
      "text/html": [
       "<div>\n",
       "<style scoped>\n",
       "    .dataframe tbody tr th:only-of-type {\n",
       "        vertical-align: middle;\n",
       "    }\n",
       "\n",
       "    .dataframe tbody tr th {\n",
       "        vertical-align: top;\n",
       "    }\n",
       "\n",
       "    .dataframe thead th {\n",
       "        text-align: right;\n",
       "    }\n",
       "</style>\n",
       "<table border=\"1\" class=\"dataframe\">\n",
       "  <thead>\n",
       "    <tr style=\"text-align: right;\">\n",
       "      <th></th>\n",
       "      <th>Monday</th>\n",
       "      <th>Saturday</th>\n",
       "      <th>Sunday</th>\n",
       "      <th>Thursday</th>\n",
       "      <th>Tuesday</th>\n",
       "      <th>Wednesday</th>\n",
       "    </tr>\n",
       "  </thead>\n",
       "  <tbody>\n",
       "    <tr>\n",
       "      <th>0</th>\n",
       "      <td>0</td>\n",
       "      <td>0</td>\n",
       "      <td>0</td>\n",
       "      <td>0</td>\n",
       "      <td>0</td>\n",
       "      <td>1</td>\n",
       "    </tr>\n",
       "    <tr>\n",
       "      <th>1</th>\n",
       "      <td>0</td>\n",
       "      <td>0</td>\n",
       "      <td>0</td>\n",
       "      <td>0</td>\n",
       "      <td>0</td>\n",
       "      <td>1</td>\n",
       "    </tr>\n",
       "    <tr>\n",
       "      <th>2</th>\n",
       "      <td>0</td>\n",
       "      <td>0</td>\n",
       "      <td>0</td>\n",
       "      <td>0</td>\n",
       "      <td>0</td>\n",
       "      <td>1</td>\n",
       "    </tr>\n",
       "    <tr>\n",
       "      <th>3</th>\n",
       "      <td>0</td>\n",
       "      <td>0</td>\n",
       "      <td>0</td>\n",
       "      <td>0</td>\n",
       "      <td>0</td>\n",
       "      <td>1</td>\n",
       "    </tr>\n",
       "    <tr>\n",
       "      <th>4</th>\n",
       "      <td>0</td>\n",
       "      <td>0</td>\n",
       "      <td>0</td>\n",
       "      <td>0</td>\n",
       "      <td>0</td>\n",
       "      <td>1</td>\n",
       "    </tr>\n",
       "  </tbody>\n",
       "</table>\n",
       "</div>"
      ],
      "text/plain": [
       "   Monday  Saturday  Sunday  Thursday  Tuesday  Wednesday\n",
       "0       0         0       0         0        0          1\n",
       "1       0         0       0         0        0          1\n",
       "2       0         0       0         0        0          1\n",
       "3       0         0       0         0        0          1\n",
       "4       0         0       0         0        0          1"
      ]
     },
<<<<<<< Updated upstream
     "execution_count": 929,
=======
     "execution_count": 84,
>>>>>>> Stashed changes
     "metadata": {},
     "output_type": "execute_result"
    }
   ],
   "source": [
    "resto_Day.head()"
   ]
  },
  {
   "cell_type": "code",
<<<<<<< Updated upstream
   "execution_count": 930,
=======
   "execution_count": 85,
>>>>>>> Stashed changes
   "metadata": {},
   "outputs": [],
   "source": [
    "resto_Code = pd.get_dummies(resto['Code'], drop_first=True)"
   ]
  },
  {
   "cell_type": "code",
<<<<<<< Updated upstream
   "execution_count": 931,
=======
   "execution_count": 86,
>>>>>>> Stashed changes
   "metadata": {},
   "outputs": [
    {
     "data": {
      "text/html": [
       "<div>\n",
       "<style scoped>\n",
       "    .dataframe tbody tr th:only-of-type {\n",
       "        vertical-align: middle;\n",
       "    }\n",
       "\n",
       "    .dataframe tbody tr th {\n",
       "        vertical-align: top;\n",
       "    }\n",
       "\n",
       "    .dataframe thead th {\n",
       "        text-align: right;\n",
       "    }\n",
       "</style>\n",
       "<table border=\"1\" class=\"dataframe\">\n",
       "  <thead>\n",
       "    <tr style=\"text-align: right;\">\n",
       "      <th></th>\n",
       "      <th>MB</th>\n",
       "      <th>NV MEALS</th>\n",
       "      <th>PB</th>\n",
       "      <th>VB</th>\n",
       "      <th>VFR</th>\n",
       "      <th>VMLS</th>\n",
       "    </tr>\n",
       "  </thead>\n",
       "  <tbody>\n",
       "    <tr>\n",
       "      <th>0</th>\n",
       "      <td>0</td>\n",
       "      <td>0</td>\n",
       "      <td>0</td>\n",
       "      <td>1</td>\n",
       "      <td>0</td>\n",
       "      <td>0</td>\n",
       "    </tr>\n",
       "    <tr>\n",
       "      <th>1</th>\n",
       "      <td>0</td>\n",
       "      <td>0</td>\n",
       "      <td>0</td>\n",
       "      <td>0</td>\n",
       "      <td>1</td>\n",
       "      <td>0</td>\n",
       "    </tr>\n",
       "    <tr>\n",
       "      <th>2</th>\n",
       "      <td>0</td>\n",
       "      <td>0</td>\n",
       "      <td>0</td>\n",
       "      <td>0</td>\n",
       "      <td>0</td>\n",
       "      <td>1</td>\n",
       "    </tr>\n",
       "    <tr>\n",
       "      <th>3</th>\n",
       "      <td>0</td>\n",
       "      <td>1</td>\n",
       "      <td>0</td>\n",
       "      <td>0</td>\n",
       "      <td>0</td>\n",
       "      <td>0</td>\n",
       "    </tr>\n",
       "    <tr>\n",
       "      <th>4</th>\n",
       "      <td>0</td>\n",
       "      <td>0</td>\n",
       "      <td>0</td>\n",
       "      <td>0</td>\n",
       "      <td>0</td>\n",
       "      <td>0</td>\n",
       "    </tr>\n",
       "  </tbody>\n",
       "</table>\n",
       "</div>"
      ],
      "text/plain": [
       "   MB  NV MEALS  PB  VB  VFR  VMLS\n",
       "0   0         0   0   1    0     0\n",
       "1   0         0   0   0    1     0\n",
       "2   0         0   0   0    0     1\n",
       "3   0         1   0   0    0     0\n",
       "4   0         0   0   0    0     0"
      ]
     },
<<<<<<< Updated upstream
     "execution_count": 931,
=======
     "execution_count": 86,
>>>>>>> Stashed changes
     "metadata": {},
     "output_type": "execute_result"
    }
   ],
   "source": [
    "resto_Code.head()"
   ]
  },
  {
   "cell_type": "code",
<<<<<<< Updated upstream
   "execution_count": 932,
=======
   "execution_count": 87,
>>>>>>> Stashed changes
   "metadata": {},
   "outputs": [],
   "source": [
    "resto_Holiday = pd.get_dummies(resto['Holiday'], drop_first=True)"
   ]
  },
  {
   "cell_type": "code",
<<<<<<< Updated upstream
   "execution_count": 933,
=======
   "execution_count": 88,
>>>>>>> Stashed changes
   "metadata": {},
   "outputs": [
    {
     "data": {
      "text/html": [
       "<div>\n",
       "<style scoped>\n",
       "    .dataframe tbody tr th:only-of-type {\n",
       "        vertical-align: middle;\n",
       "    }\n",
       "\n",
       "    .dataframe tbody tr th {\n",
       "        vertical-align: top;\n",
       "    }\n",
       "\n",
       "    .dataframe thead th {\n",
       "        text-align: right;\n",
       "    }\n",
       "</style>\n",
       "<table border=\"1\" class=\"dataframe\">\n",
       "  <thead>\n",
       "    <tr style=\"text-align: right;\">\n",
       "      <th></th>\n",
       "      <th>New Year</th>\n",
       "      <th>Republic Day</th>\n",
       "      <th>Working Day</th>\n",
       "    </tr>\n",
       "  </thead>\n",
       "  <tbody>\n",
       "    <tr>\n",
       "      <th>0</th>\n",
       "      <td>1</td>\n",
       "      <td>0</td>\n",
       "      <td>0</td>\n",
       "    </tr>\n",
       "    <tr>\n",
       "      <th>1</th>\n",
       "      <td>1</td>\n",
       "      <td>0</td>\n",
       "      <td>0</td>\n",
       "    </tr>\n",
       "    <tr>\n",
       "      <th>2</th>\n",
       "      <td>1</td>\n",
       "      <td>0</td>\n",
       "      <td>0</td>\n",
       "    </tr>\n",
       "    <tr>\n",
       "      <th>3</th>\n",
       "      <td>1</td>\n",
       "      <td>0</td>\n",
       "      <td>0</td>\n",
       "    </tr>\n",
       "    <tr>\n",
       "      <th>4</th>\n",
       "      <td>1</td>\n",
       "      <td>0</td>\n",
       "      <td>0</td>\n",
       "    </tr>\n",
       "  </tbody>\n",
       "</table>\n",
       "</div>"
      ],
      "text/plain": [
       "   New Year  Republic Day  Working Day\n",
       "0         1             0            0\n",
       "1         1             0            0\n",
       "2         1             0            0\n",
       "3         1             0            0\n",
       "4         1             0            0"
      ]
     },
<<<<<<< Updated upstream
     "execution_count": 933,
=======
     "execution_count": 88,
>>>>>>> Stashed changes
     "metadata": {},
     "output_type": "execute_result"
    }
   ],
   "source": [
    "resto_Holiday.head()"
   ]
  },
  {
   "cell_type": "code",
<<<<<<< Updated upstream
   "execution_count": 934,
=======
   "execution_count": 89,
>>>>>>> Stashed changes
   "metadata": {},
   "outputs": [],
   "source": [
    "#Concatinating all dummies into original Data Frame\n",
    "resto = pd.concat([resto_Day,resto],axis=1)\n",
    "resto = pd.concat([resto_Code,resto],axis=1)\n",
    "resto = pd.concat([resto_Holiday,resto],axis=1)"
   ]
  },
  {
   "cell_type": "code",
<<<<<<< Updated upstream
   "execution_count": 935,
=======
   "execution_count": 90,
>>>>>>> Stashed changes
   "metadata": {},
   "outputs": [
    {
     "data": {
      "text/html": [
       "<div>\n",
       "<style scoped>\n",
       "    .dataframe tbody tr th:only-of-type {\n",
       "        vertical-align: middle;\n",
       "    }\n",
       "\n",
       "    .dataframe tbody tr th {\n",
       "        vertical-align: top;\n",
       "    }\n",
       "\n",
       "    .dataframe thead th {\n",
       "        text-align: right;\n",
       "    }\n",
       "</style>\n",
       "<table border=\"1\" class=\"dataframe\">\n",
       "  <thead>\n",
       "    <tr style=\"text-align: right;\">\n",
       "      <th></th>\n",
       "      <th>New Year</th>\n",
       "      <th>Republic Day</th>\n",
       "      <th>Working Day</th>\n",
       "      <th>MB</th>\n",
       "      <th>NV MEALS</th>\n",
       "      <th>PB</th>\n",
       "      <th>VB</th>\n",
       "      <th>VFR</th>\n",
       "      <th>VMLS</th>\n",
       "      <th>Monday</th>\n",
       "      <th>...</th>\n",
       "      <th>Tuesday</th>\n",
       "      <th>Wednesday</th>\n",
       "      <th>Date</th>\n",
       "      <th>Day</th>\n",
       "      <th>Code</th>\n",
       "      <th>Price</th>\n",
       "      <th>Qty_Prep_kg</th>\n",
       "      <th>Qty_Sold_kg</th>\n",
       "      <th>Holiday</th>\n",
       "      <th>Qty_wasted</th>\n",
       "    </tr>\n",
       "  </thead>\n",
       "  <tbody>\n",
       "    <tr>\n",
       "      <th>0</th>\n",
       "      <td>1</td>\n",
       "      <td>0</td>\n",
       "      <td>0</td>\n",
       "      <td>0</td>\n",
       "      <td>0</td>\n",
       "      <td>0</td>\n",
       "      <td>1</td>\n",
       "      <td>0</td>\n",
       "      <td>0</td>\n",
       "      <td>0</td>\n",
       "      <td>...</td>\n",
       "      <td>0</td>\n",
       "      <td>1</td>\n",
       "      <td>2020-01-01</td>\n",
       "      <td>Wednesday</td>\n",
       "      <td>VB</td>\n",
       "      <td>160</td>\n",
       "      <td>30</td>\n",
       "      <td>25</td>\n",
       "      <td>New Year</td>\n",
       "      <td>5</td>\n",
       "    </tr>\n",
       "    <tr>\n",
       "      <th>1</th>\n",
       "      <td>1</td>\n",
       "      <td>0</td>\n",
       "      <td>0</td>\n",
       "      <td>0</td>\n",
       "      <td>0</td>\n",
       "      <td>0</td>\n",
       "      <td>0</td>\n",
       "      <td>1</td>\n",
       "      <td>0</td>\n",
       "      <td>0</td>\n",
       "      <td>...</td>\n",
       "      <td>0</td>\n",
       "      <td>1</td>\n",
       "      <td>2020-01-01</td>\n",
       "      <td>Wednesday</td>\n",
       "      <td>VFR</td>\n",
       "      <td>180</td>\n",
       "      <td>30</td>\n",
       "      <td>28</td>\n",
       "      <td>New Year</td>\n",
       "      <td>2</td>\n",
       "    </tr>\n",
       "    <tr>\n",
       "      <th>2</th>\n",
       "      <td>1</td>\n",
       "      <td>0</td>\n",
       "      <td>0</td>\n",
       "      <td>0</td>\n",
       "      <td>0</td>\n",
       "      <td>0</td>\n",
       "      <td>0</td>\n",
       "      <td>0</td>\n",
       "      <td>1</td>\n",
       "      <td>0</td>\n",
       "      <td>...</td>\n",
       "      <td>0</td>\n",
       "      <td>1</td>\n",
       "      <td>2020-01-01</td>\n",
       "      <td>Wednesday</td>\n",
       "      <td>VMLS</td>\n",
       "      <td>190</td>\n",
       "      <td>45</td>\n",
       "      <td>30</td>\n",
       "      <td>New Year</td>\n",
       "      <td>15</td>\n",
       "    </tr>\n",
       "    <tr>\n",
       "      <th>3</th>\n",
       "      <td>1</td>\n",
       "      <td>0</td>\n",
       "      <td>0</td>\n",
       "      <td>0</td>\n",
       "      <td>1</td>\n",
       "      <td>0</td>\n",
       "      <td>0</td>\n",
       "      <td>0</td>\n",
       "      <td>0</td>\n",
       "      <td>0</td>\n",
       "      <td>...</td>\n",
       "      <td>0</td>\n",
       "      <td>1</td>\n",
       "      <td>2020-01-01</td>\n",
       "      <td>Wednesday</td>\n",
       "      <td>NV MEALS</td>\n",
       "      <td>225</td>\n",
       "      <td>60</td>\n",
       "      <td>46</td>\n",
       "      <td>New Year</td>\n",
       "      <td>14</td>\n",
       "    </tr>\n",
       "    <tr>\n",
       "      <th>4</th>\n",
       "      <td>1</td>\n",
       "      <td>0</td>\n",
       "      <td>0</td>\n",
       "      <td>0</td>\n",
       "      <td>0</td>\n",
       "      <td>0</td>\n",
       "      <td>0</td>\n",
       "      <td>0</td>\n",
       "      <td>0</td>\n",
       "      <td>0</td>\n",
       "      <td>...</td>\n",
       "      <td>0</td>\n",
       "      <td>1</td>\n",
       "      <td>2020-01-01</td>\n",
       "      <td>Wednesday</td>\n",
       "      <td>CB</td>\n",
       "      <td>265</td>\n",
       "      <td>60</td>\n",
       "      <td>60</td>\n",
       "      <td>New Year</td>\n",
       "      <td>0</td>\n",
       "    </tr>\n",
       "  </tbody>\n",
       "</table>\n",
       "<p>5 rows × 23 columns</p>\n",
       "</div>"
      ],
      "text/plain": [
       "   New Year  Republic Day  Working Day  MB  NV MEALS  PB  VB  VFR  VMLS  \\\n",
       "0         1             0            0   0         0   0   1    0     0   \n",
       "1         1             0            0   0         0   0   0    1     0   \n",
       "2         1             0            0   0         0   0   0    0     1   \n",
       "3         1             0            0   0         1   0   0    0     0   \n",
       "4         1             0            0   0         0   0   0    0     0   \n",
       "\n",
       "   Monday  ...  Tuesday  Wednesday       Date        Day      Code Price  \\\n",
       "0       0  ...        0          1 2020-01-01  Wednesday        VB   160   \n",
       "1       0  ...        0          1 2020-01-01  Wednesday       VFR   180   \n",
       "2       0  ...        0          1 2020-01-01  Wednesday      VMLS   190   \n",
       "3       0  ...        0          1 2020-01-01  Wednesday  NV MEALS   225   \n",
       "4       0  ...        0          1 2020-01-01  Wednesday        CB   265   \n",
       "\n",
       "  Qty_Prep_kg Qty_Sold_kg   Holiday  Qty_wasted  \n",
       "0          30          25  New Year           5  \n",
       "1          30          28  New Year           2  \n",
       "2          45          30  New Year          15  \n",
       "3          60          46  New Year          14  \n",
       "4          60          60  New Year           0  \n",
       "\n",
       "[5 rows x 23 columns]"
      ]
     },
<<<<<<< Updated upstream
     "execution_count": 935,
=======
     "execution_count": 90,
>>>>>>> Stashed changes
     "metadata": {},
     "output_type": "execute_result"
    }
   ],
   "source": [
    "resto.head()"
   ]
  },
  {
   "cell_type": "code",
<<<<<<< Updated upstream
   "execution_count": 936,
=======
   "execution_count": 91,
>>>>>>> Stashed changes
   "metadata": {},
   "outputs": [],
   "source": [
    "#deleting the original columns \n",
    "resto = resto.drop(['Day', 'Holiday', 'Code'],axis=1)"
   ]
  },
  {
   "cell_type": "code",
<<<<<<< Updated upstream
   "execution_count": 937,
=======
   "execution_count": 92,
>>>>>>> Stashed changes
   "metadata": {},
   "outputs": [
    {
     "data": {
      "text/html": [
       "<div>\n",
       "<style scoped>\n",
       "    .dataframe tbody tr th:only-of-type {\n",
       "        vertical-align: middle;\n",
       "    }\n",
       "\n",
       "    .dataframe tbody tr th {\n",
       "        vertical-align: top;\n",
       "    }\n",
       "\n",
       "    .dataframe thead th {\n",
       "        text-align: right;\n",
       "    }\n",
       "</style>\n",
       "<table border=\"1\" class=\"dataframe\">\n",
       "  <thead>\n",
       "    <tr style=\"text-align: right;\">\n",
       "      <th></th>\n",
       "      <th>New Year</th>\n",
       "      <th>Republic Day</th>\n",
       "      <th>Working Day</th>\n",
       "      <th>MB</th>\n",
       "      <th>NV MEALS</th>\n",
       "      <th>PB</th>\n",
       "      <th>VB</th>\n",
       "      <th>VFR</th>\n",
       "      <th>VMLS</th>\n",
       "      <th>Monday</th>\n",
       "      <th>Saturday</th>\n",
       "      <th>Sunday</th>\n",
       "      <th>Thursday</th>\n",
       "      <th>Tuesday</th>\n",
       "      <th>Wednesday</th>\n",
       "      <th>Date</th>\n",
       "      <th>Price</th>\n",
       "      <th>Qty_Prep_kg</th>\n",
       "      <th>Qty_Sold_kg</th>\n",
       "      <th>Qty_wasted</th>\n",
       "    </tr>\n",
       "  </thead>\n",
       "  <tbody>\n",
       "    <tr>\n",
       "      <th>0</th>\n",
       "      <td>1</td>\n",
       "      <td>0</td>\n",
       "      <td>0</td>\n",
       "      <td>0</td>\n",
       "      <td>0</td>\n",
       "      <td>0</td>\n",
       "      <td>1</td>\n",
       "      <td>0</td>\n",
       "      <td>0</td>\n",
       "      <td>0</td>\n",
       "      <td>0</td>\n",
       "      <td>0</td>\n",
       "      <td>0</td>\n",
       "      <td>0</td>\n",
       "      <td>1</td>\n",
       "      <td>2020-01-01</td>\n",
       "      <td>160</td>\n",
       "      <td>30</td>\n",
       "      <td>25</td>\n",
       "      <td>5</td>\n",
       "    </tr>\n",
       "    <tr>\n",
       "      <th>1</th>\n",
       "      <td>1</td>\n",
       "      <td>0</td>\n",
       "      <td>0</td>\n",
       "      <td>0</td>\n",
       "      <td>0</td>\n",
       "      <td>0</td>\n",
       "      <td>0</td>\n",
       "      <td>1</td>\n",
       "      <td>0</td>\n",
       "      <td>0</td>\n",
       "      <td>0</td>\n",
       "      <td>0</td>\n",
       "      <td>0</td>\n",
       "      <td>0</td>\n",
       "      <td>1</td>\n",
       "      <td>2020-01-01</td>\n",
       "      <td>180</td>\n",
       "      <td>30</td>\n",
       "      <td>28</td>\n",
       "      <td>2</td>\n",
       "    </tr>\n",
       "    <tr>\n",
       "      <th>2</th>\n",
       "      <td>1</td>\n",
       "      <td>0</td>\n",
       "      <td>0</td>\n",
       "      <td>0</td>\n",
       "      <td>0</td>\n",
       "      <td>0</td>\n",
       "      <td>0</td>\n",
       "      <td>0</td>\n",
       "      <td>1</td>\n",
       "      <td>0</td>\n",
       "      <td>0</td>\n",
       "      <td>0</td>\n",
       "      <td>0</td>\n",
       "      <td>0</td>\n",
       "      <td>1</td>\n",
       "      <td>2020-01-01</td>\n",
       "      <td>190</td>\n",
       "      <td>45</td>\n",
       "      <td>30</td>\n",
       "      <td>15</td>\n",
       "    </tr>\n",
       "    <tr>\n",
       "      <th>3</th>\n",
       "      <td>1</td>\n",
       "      <td>0</td>\n",
       "      <td>0</td>\n",
       "      <td>0</td>\n",
       "      <td>1</td>\n",
       "      <td>0</td>\n",
       "      <td>0</td>\n",
       "      <td>0</td>\n",
       "      <td>0</td>\n",
       "      <td>0</td>\n",
       "      <td>0</td>\n",
       "      <td>0</td>\n",
       "      <td>0</td>\n",
       "      <td>0</td>\n",
       "      <td>1</td>\n",
       "      <td>2020-01-01</td>\n",
       "      <td>225</td>\n",
       "      <td>60</td>\n",
       "      <td>46</td>\n",
       "      <td>14</td>\n",
       "    </tr>\n",
       "    <tr>\n",
       "      <th>4</th>\n",
       "      <td>1</td>\n",
       "      <td>0</td>\n",
       "      <td>0</td>\n",
       "      <td>0</td>\n",
       "      <td>0</td>\n",
       "      <td>0</td>\n",
       "      <td>0</td>\n",
       "      <td>0</td>\n",
       "      <td>0</td>\n",
       "      <td>0</td>\n",
       "      <td>0</td>\n",
       "      <td>0</td>\n",
       "      <td>0</td>\n",
       "      <td>0</td>\n",
       "      <td>1</td>\n",
       "      <td>2020-01-01</td>\n",
       "      <td>265</td>\n",
       "      <td>60</td>\n",
       "      <td>60</td>\n",
       "      <td>0</td>\n",
       "    </tr>\n",
       "  </tbody>\n",
       "</table>\n",
       "</div>"
      ],
      "text/plain": [
       "   New Year  Republic Day  Working Day  MB  NV MEALS  PB  VB  VFR  VMLS  \\\n",
       "0         1             0            0   0         0   0   1    0     0   \n",
       "1         1             0            0   0         0   0   0    1     0   \n",
       "2         1             0            0   0         0   0   0    0     1   \n",
       "3         1             0            0   0         1   0   0    0     0   \n",
       "4         1             0            0   0         0   0   0    0     0   \n",
       "\n",
       "   Monday  Saturday  Sunday  Thursday  Tuesday  Wednesday       Date  Price  \\\n",
       "0       0         0       0         0        0          1 2020-01-01    160   \n",
       "1       0         0       0         0        0          1 2020-01-01    180   \n",
       "2       0         0       0         0        0          1 2020-01-01    190   \n",
       "3       0         0       0         0        0          1 2020-01-01    225   \n",
       "4       0         0       0         0        0          1 2020-01-01    265   \n",
       "\n",
       "   Qty_Prep_kg  Qty_Sold_kg  Qty_wasted  \n",
       "0           30           25           5  \n",
       "1           30           28           2  \n",
       "2           45           30          15  \n",
       "3           60           46          14  \n",
       "4           60           60           0  "
      ]
     },
<<<<<<< Updated upstream
     "execution_count": 937,
=======
     "execution_count": 92,
>>>>>>> Stashed changes
     "metadata": {},
     "output_type": "execute_result"
    }
   ],
   "source": [
    "resto.head()"
   ]
  },
  {
   "cell_type": "code",
<<<<<<< Updated upstream
   "execution_count": 938,
=======
   "execution_count": 93,
>>>>>>> Stashed changes
   "metadata": {},
   "outputs": [
    {
     "name": "stdout",
     "output_type": "stream",
     "text": [
      "<class 'pandas.core.frame.DataFrame'>\n",
      "RangeIndex: 434 entries, 0 to 433\n",
      "Data columns (total 20 columns):\n",
      " #   Column        Non-Null Count  Dtype         \n",
      "---  ------        --------------  -----         \n",
      " 0   New Year      434 non-null    uint8         \n",
      " 1   Republic Day  434 non-null    uint8         \n",
      " 2   Working Day   434 non-null    uint8         \n",
      " 3   MB            434 non-null    uint8         \n",
      " 4   NV MEALS      434 non-null    uint8         \n",
      " 5   PB            434 non-null    uint8         \n",
      " 6   VB            434 non-null    uint8         \n",
      " 7   VFR           434 non-null    uint8         \n",
      " 8   VMLS          434 non-null    uint8         \n",
      " 9   Monday        434 non-null    uint8         \n",
      " 10  Saturday      434 non-null    uint8         \n",
      " 11  Sunday        434 non-null    uint8         \n",
      " 12  Thursday      434 non-null    uint8         \n",
      " 13  Tuesday       434 non-null    uint8         \n",
      " 14  Wednesday     434 non-null    uint8         \n",
      " 15  Date          434 non-null    datetime64[ns]\n",
      " 16  Price         434 non-null    int64         \n",
      " 17  Qty_Prep_kg   434 non-null    int64         \n",
      " 18  Qty_Sold_kg   434 non-null    int64         \n",
      " 19  Qty_wasted    434 non-null    int64         \n",
      "dtypes: datetime64[ns](1), int64(4), uint8(15)\n",
      "memory usage: 23.4 KB\n"
     ]
    }
   ],
   "source": [
    "resto.info()"
   ]
  },
  {
   "cell_type": "markdown",
   "metadata": {},
   "source": [
    "#### Now we have all features as Int or Float object"
   ]
  },
  {
   "cell_type": "code",
<<<<<<< Updated upstream
   "execution_count": 939,
=======
   "execution_count": 94,
>>>>>>> Stashed changes
   "metadata": {},
   "outputs": [],
   "source": [
    "#checking correlation\n",
    "corr = resto.corr()"
   ]
  },
  {
   "cell_type": "code",
<<<<<<< Updated upstream
   "execution_count": 940,
=======
   "execution_count": 95,
>>>>>>> Stashed changes
   "metadata": {},
   "outputs": [
    {
     "data": {
      "image/png": "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\n",
      "text/plain": [
       "<Figure size 1440x1080 with 2 Axes>"
      ]
     },
     "metadata": {
      "needs_background": "light"
     },
     "output_type": "display_data"
    }
   ],
   "source": [
    "plt.figure(figsize=(20,15))\n",
    "sns.heatmap(corr,cmap='Greens', annot=True)\n",
    "plt.show()"
   ]
  },
  {
   "cell_type": "code",
<<<<<<< Updated upstream
   "execution_count": 941,
=======
   "execution_count": 96,
>>>>>>> Stashed changes
   "metadata": {},
   "outputs": [
    {
     "data": {
      "text/plain": [
       "Index(['New Year', 'Republic Day', 'Working Day', 'MB', 'NV MEALS', 'PB', 'VB',\n",
       "       'VFR', 'VMLS', 'Monday', 'Saturday', 'Sunday', 'Thursday', 'Tuesday',\n",
       "       'Wednesday', 'Date', 'Price', 'Qty_Prep_kg', 'Qty_Sold_kg',\n",
       "       'Qty_wasted'],\n",
       "      dtype='object')"
      ]
     },
<<<<<<< Updated upstream
     "execution_count": 941,
=======
     "execution_count": 96,
>>>>>>> Stashed changes
     "metadata": {},
     "output_type": "execute_result"
    }
   ],
   "source": [
    "resto.columns"
   ]
  },
  {
   "cell_type": "code",
<<<<<<< Updated upstream
   "execution_count": 942,
=======
   "execution_count": 97,
>>>>>>> Stashed changes
   "metadata": {},
   "outputs": [
    {
     "data": {
      "text/plain": [
<<<<<<< Updated upstream
       "<seaborn.axisgrid.PairGrid at 0x202661ef7c0>"
      ]
     },
     "execution_count": 942,
=======
       "<seaborn.axisgrid.PairGrid at 0x2d14e1b49d0>"
      ]
     },
     "execution_count": 97,
>>>>>>> Stashed changes
     "metadata": {},
     "output_type": "execute_result"
    },
    {
     "data": {
      "image/png": "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\n",
      "text/plain": [
       "<Figure size 540x540 with 12 Axes>"
      ]
     },
     "metadata": {
      "needs_background": "light"
     },
     "output_type": "display_data"
    }
   ],
   "source": [
    "#Ploting Scatterplot\n",
    "sns.pairplot(resto, vars=['Qty_Sold_kg', 'Qty_Prep_kg', 'Qty_wasted'])"
   ]
  },
  {
   "cell_type": "code",
<<<<<<< Updated upstream
   "execution_count": 943,
=======
   "execution_count": 98,
>>>>>>> Stashed changes
   "metadata": {},
   "outputs": [
    {
     "data": {
      "text/html": [
       "<div>\n",
       "<style scoped>\n",
       "    .dataframe tbody tr th:only-of-type {\n",
       "        vertical-align: middle;\n",
       "    }\n",
       "\n",
       "    .dataframe tbody tr th {\n",
       "        vertical-align: top;\n",
       "    }\n",
       "\n",
       "    .dataframe thead th {\n",
       "        text-align: right;\n",
       "    }\n",
       "</style>\n",
       "<table border=\"1\" class=\"dataframe\">\n",
       "  <thead>\n",
       "    <tr style=\"text-align: right;\">\n",
       "      <th></th>\n",
       "      <th>New Year</th>\n",
       "      <th>Republic Day</th>\n",
       "      <th>Working Day</th>\n",
       "      <th>MB</th>\n",
       "      <th>NV MEALS</th>\n",
       "      <th>PB</th>\n",
       "      <th>VB</th>\n",
       "      <th>VFR</th>\n",
       "      <th>VMLS</th>\n",
       "      <th>Monday</th>\n",
       "      <th>Saturday</th>\n",
       "      <th>Sunday</th>\n",
       "      <th>Thursday</th>\n",
       "      <th>Tuesday</th>\n",
       "      <th>Wednesday</th>\n",
       "      <th>Date</th>\n",
       "      <th>Price</th>\n",
       "      <th>Qty_Prep_kg</th>\n",
       "      <th>Qty_Sold_kg</th>\n",
       "      <th>Qty_wasted</th>\n",
       "    </tr>\n",
       "  </thead>\n",
       "  <tbody>\n",
       "    <tr>\n",
       "      <th>0</th>\n",
       "      <td>1</td>\n",
       "      <td>0</td>\n",
       "      <td>0</td>\n",
       "      <td>0</td>\n",
       "      <td>0</td>\n",
       "      <td>0</td>\n",
       "      <td>1</td>\n",
       "      <td>0</td>\n",
       "      <td>0</td>\n",
       "      <td>0</td>\n",
       "      <td>0</td>\n",
       "      <td>0</td>\n",
       "      <td>0</td>\n",
       "      <td>0</td>\n",
       "      <td>1</td>\n",
       "      <td>2020-01-01</td>\n",
       "      <td>160</td>\n",
       "      <td>30</td>\n",
       "      <td>25</td>\n",
       "      <td>5</td>\n",
       "    </tr>\n",
       "    <tr>\n",
       "      <th>1</th>\n",
       "      <td>1</td>\n",
       "      <td>0</td>\n",
       "      <td>0</td>\n",
       "      <td>0</td>\n",
       "      <td>0</td>\n",
       "      <td>0</td>\n",
       "      <td>0</td>\n",
       "      <td>1</td>\n",
       "      <td>0</td>\n",
       "      <td>0</td>\n",
       "      <td>0</td>\n",
       "      <td>0</td>\n",
       "      <td>0</td>\n",
       "      <td>0</td>\n",
       "      <td>1</td>\n",
       "      <td>2020-01-01</td>\n",
       "      <td>180</td>\n",
       "      <td>30</td>\n",
       "      <td>28</td>\n",
       "      <td>2</td>\n",
       "    </tr>\n",
       "    <tr>\n",
       "      <th>2</th>\n",
       "      <td>1</td>\n",
       "      <td>0</td>\n",
       "      <td>0</td>\n",
       "      <td>0</td>\n",
       "      <td>0</td>\n",
       "      <td>0</td>\n",
       "      <td>0</td>\n",
       "      <td>0</td>\n",
       "      <td>1</td>\n",
       "      <td>0</td>\n",
       "      <td>0</td>\n",
       "      <td>0</td>\n",
       "      <td>0</td>\n",
       "      <td>0</td>\n",
       "      <td>1</td>\n",
       "      <td>2020-01-01</td>\n",
       "      <td>190</td>\n",
       "      <td>45</td>\n",
       "      <td>30</td>\n",
       "      <td>15</td>\n",
       "    </tr>\n",
       "    <tr>\n",
       "      <th>3</th>\n",
       "      <td>1</td>\n",
       "      <td>0</td>\n",
       "      <td>0</td>\n",
       "      <td>0</td>\n",
       "      <td>1</td>\n",
       "      <td>0</td>\n",
       "      <td>0</td>\n",
       "      <td>0</td>\n",
       "      <td>0</td>\n",
       "      <td>0</td>\n",
       "      <td>0</td>\n",
       "      <td>0</td>\n",
       "      <td>0</td>\n",
       "      <td>0</td>\n",
       "      <td>1</td>\n",
       "      <td>2020-01-01</td>\n",
       "      <td>225</td>\n",
       "      <td>60</td>\n",
       "      <td>46</td>\n",
       "      <td>14</td>\n",
       "    </tr>\n",
       "    <tr>\n",
       "      <th>4</th>\n",
       "      <td>1</td>\n",
       "      <td>0</td>\n",
       "      <td>0</td>\n",
       "      <td>0</td>\n",
       "      <td>0</td>\n",
       "      <td>0</td>\n",
       "      <td>0</td>\n",
       "      <td>0</td>\n",
       "      <td>0</td>\n",
       "      <td>0</td>\n",
       "      <td>0</td>\n",
       "      <td>0</td>\n",
       "      <td>0</td>\n",
       "      <td>0</td>\n",
       "      <td>1</td>\n",
       "      <td>2020-01-01</td>\n",
       "      <td>265</td>\n",
       "      <td>60</td>\n",
       "      <td>60</td>\n",
       "      <td>0</td>\n",
       "    </tr>\n",
       "  </tbody>\n",
       "</table>\n",
       "</div>"
      ],
      "text/plain": [
       "   New Year  Republic Day  Working Day  MB  NV MEALS  PB  VB  VFR  VMLS  \\\n",
       "0         1             0            0   0         0   0   1    0     0   \n",
       "1         1             0            0   0         0   0   0    1     0   \n",
       "2         1             0            0   0         0   0   0    0     1   \n",
       "3         1             0            0   0         1   0   0    0     0   \n",
       "4         1             0            0   0         0   0   0    0     0   \n",
       "\n",
       "   Monday  Saturday  Sunday  Thursday  Tuesday  Wednesday       Date  Price  \\\n",
       "0       0         0       0         0        0          1 2020-01-01    160   \n",
       "1       0         0       0         0        0          1 2020-01-01    180   \n",
       "2       0         0       0         0        0          1 2020-01-01    190   \n",
       "3       0         0       0         0        0          1 2020-01-01    225   \n",
       "4       0         0       0         0        0          1 2020-01-01    265   \n",
       "\n",
       "   Qty_Prep_kg  Qty_Sold_kg  Qty_wasted  \n",
       "0           30           25           5  \n",
       "1           30           28           2  \n",
       "2           45           30          15  \n",
       "3           60           46          14  \n",
       "4           60           60           0  "
      ]
     },
<<<<<<< Updated upstream
     "execution_count": 943,
=======
     "execution_count": 98,
>>>>>>> Stashed changes
     "metadata": {},
     "output_type": "execute_result"
    }
   ],
   "source": [
    "resto.head()"
   ]
  },
  {
   "cell_type": "markdown",
   "metadata": {},
   "source": [
    "#### X and Y Split"
   ]
  },
  {
   "cell_type": "code",
<<<<<<< Updated upstream
   "execution_count": 944,
=======
   "execution_count": 99,
>>>>>>> Stashed changes
   "metadata": {},
   "outputs": [],
   "source": [
    "# Putting feature variable to X\n",
    "filtered_data = resto[['New Year', 'Republic Day', 'Working Day', 'MB', 'NV MEALS', 'PB', 'VB',\n",
    "       'VFR', 'VMLS', 'Monday', 'Saturday', 'Sunday', 'Thursday', 'Tuesday',\n",
    "       'Wednesday', 'Price', 'Qty_Prep_kg', 'Qty_Sold_kg']]\n",
    "\n",
    "\n",
    "X = filtered_data.values\n",
    "\n",
    "# Putting response variable to y\n",
    "y = resto.Qty_wasted.values"
   ]
  },
  {
   "cell_type": "markdown",
   "metadata": {},
   "source": [
    "#### Splitting into Test train DataSets"
   ]
  },
  {
   "cell_type": "code",
<<<<<<< Updated upstream
   "execution_count": 945,
=======
   "execution_count": 100,
>>>>>>> Stashed changes
   "metadata": {},
   "outputs": [],
   "source": [
    "from sklearn.model_selection import train_test_split"
   ]
  },
  {
   "cell_type": "code",
<<<<<<< Updated upstream
   "execution_count": 946,
=======
   "execution_count": 101,
>>>>>>> Stashed changes
   "metadata": {},
   "outputs": [],
   "source": [
    "X_train, X_test, y_train,y_test = train_test_split(X, y, train_size=0.7, random_state=100 )"
   ]
  },
  {
   "cell_type": "markdown",
   "metadata": {},
   "source": [
    "#### Scaling"
   ]
  },
  {
   "cell_type": "code",
<<<<<<< Updated upstream
   "execution_count": 947,
=======
   "execution_count": 102,
>>>>>>> Stashed changes
   "metadata": {},
   "outputs": [],
   "source": [
    "#importing Scaler --> Normalization\n",
    "#from sklearn.preprocessing import MinMaxScaler"
   ]
  },
  {
   "cell_type": "code",
<<<<<<< Updated upstream
   "execution_count": 948,
=======
   "execution_count": 103,
>>>>>>> Stashed changes
   "metadata": {},
   "outputs": [],
   "source": [
    "#intializing Scaler Object\n",
    "#scaler = MinMaxScaler()"
   ]
  },
  {
   "cell_type": "code",
<<<<<<< Updated upstream
   "execution_count": 949,
=======
   "execution_count": 104,
>>>>>>> Stashed changes
   "metadata": {},
   "outputs": [],
   "source": [
    " ###scaler.fit()"
   ]
  },
  {
   "cell_type": "markdown",
   "metadata": {},
   "source": [
    "#### Lets Build Our Model - AdaBoost"
   ]
  },
  {
   "cell_type": "code",
<<<<<<< Updated upstream
   "execution_count": 950,
=======
   "execution_count": 105,
>>>>>>> Stashed changes
   "metadata": {},
   "outputs": [],
   "source": [
    "from sklearn.ensemble import AdaBoostRegressor\n",
    "from sklearn.metrics import r2_score\n",
    "from sklearn.metrics import explained_variance_score,mean_squared_error\n",
    "import math"
   ]
  },
  {
   "cell_type": "code",
<<<<<<< Updated upstream
   "execution_count": 964,
=======
   "execution_count": 106,
>>>>>>> Stashed changes
   "metadata": {},
   "outputs": [],
   "source": [
    "adaboost = AdaBoostRegressor(n_estimators=12,learning_rate=0.6).fit(X_train, y_train)\n",
    "predict = adaboost.predict(X_test)\n",
    "r2score = r2_score(predict,y_test)"
   ]
  },
  {
   "cell_type": "code",
<<<<<<< Updated upstream
   "execution_count": 966,
=======
   "execution_count": 107,
>>>>>>> Stashed changes
   "metadata": {},
   "outputs": [
    {
     "data": {
      "text/plain": [
<<<<<<< Updated upstream
       "0.16161747488545408"
      ]
     },
     "execution_count": 966,
=======
       "-0.3553149683866499"
      ]
     },
     "execution_count": 107,
>>>>>>> Stashed changes
     "metadata": {},
     "output_type": "execute_result"
    }
   ],
   "source": [
    "r2score"
   ]
  },
  {
   "cell_type": "code",
<<<<<<< Updated upstream
   "execution_count": 968,
=======
   "execution_count": 108,
>>>>>>> Stashed changes
   "metadata": {},
   "outputs": [
    {
     "name": "stdout",
     "output_type": "stream",
     "text": [
<<<<<<< Updated upstream
      "2.4853091842229547\n"
=======
      "2.7406031805097526\n"
>>>>>>> Stashed changes
     ]
    }
   ],
   "source": [
    "# Calculating Mean Sqaured Error & Root Mean Squared Error\n",
    "mse = mean_squared_error(y_test, predict)\n",
    "\n",
    "rmse = math.sqrt(mse)\n",
    "\n",
    "print(rmse)"
   ]
  },
  {
   "cell_type": "markdown",
   "metadata": {},
   "source": [
    "#### Lets Build Our Model - XGBoost"
   ]
  },
  {
   "cell_type": "code",
<<<<<<< Updated upstream
   "execution_count": 978,
   "metadata": {},
   "outputs": [],
   "source": [
    "from sklearn.ensemble import RandomForestRegressor"
=======
   "execution_count": 109,
   "metadata": {},
   "outputs": [],
   "source": [
    "import xgboost as xgb"
>>>>>>> Stashed changes
   ]
  },
  {
   "cell_type": "code",
<<<<<<< Updated upstream
   "execution_count": 996,
=======
   "execution_count": 110,
   "metadata": {},
   "outputs": [],
   "source": [
    "xgb_reg = xgb.XGBRegressor(n_jobs = -1) # default paramters"
   ]
  },
  {
   "cell_type": "code",
   "execution_count": 111,
>>>>>>> Stashed changes
   "metadata": {},
   "outputs": [
    {
     "data": {
      "text/plain": [
<<<<<<< Updated upstream
       "RandomForestRegressor(max_depth=8, min_samples_leaf=10, n_jobs=-1,\n",
       "                      random_state=42)"
      ]
     },
     "execution_count": 996,
=======
       "XGBRegressor(base_score=0.5, booster='gbtree', colsample_bylevel=1,\n",
       "             colsample_bynode=1, colsample_bytree=1, gamma=0, gpu_id=-1,\n",
       "             importance_type='gain', interaction_constraints='',\n",
       "             learning_rate=0.300000012, max_delta_step=0, max_depth=6,\n",
       "             min_child_weight=1, missing=nan, monotone_constraints='()',\n",
       "             n_estimators=100, n_jobs=-1, num_parallel_tree=1, random_state=0,\n",
       "             reg_alpha=0, reg_lambda=1, scale_pos_weight=1, subsample=1,\n",
       "             tree_method='exact', validate_parameters=1, verbosity=None)"
      ]
     },
     "execution_count": 111,
>>>>>>> Stashed changes
     "metadata": {},
     "output_type": "execute_result"
    }
   ],
   "source": [
<<<<<<< Updated upstream
    "rf = RandomForestRegressor(random_state=42, n_jobs=-1, max_depth=8, min_samples_leaf=10)\n",
    "rf.fit(X_train, y_train)"
=======
    "xgb_reg.fit(X_train, y_train)"
>>>>>>> Stashed changes
   ]
  },
  {
   "cell_type": "code",
<<<<<<< Updated upstream
   "execution_count": 997,
   "metadata": {},
   "outputs": [],
   "source": [
    "sample_tree = rf.estimators_[8]"
=======
   "execution_count": 112,
   "metadata": {},
   "outputs": [],
   "source": [
    "pred = xgb_reg.predict(X_test)\n",
    "r2score = r2_score(pred,y_test)"
   ]
  },
  {
   "cell_type": "code",
   "execution_count": 113,
   "metadata": {},
   "outputs": [
    {
     "name": "stdout",
     "output_type": "stream",
     "text": [
      "XGboost without hyperparameter tuning 0.9241801679995997\n"
     ]
    }
   ],
   "source": [
    "print(\"XGboost without hyperparameter tuning {}\" .format(r2score))"
   ]
  },
  {
   "cell_type": "markdown",
   "metadata": {},
   "source": [
    "## XGBoost - Hyperparameter Tuning"
>>>>>>> Stashed changes
   ]
  },
  {
   "cell_type": "code",
<<<<<<< Updated upstream
   "execution_count": 998,
   "metadata": {},
   "outputs": [],
   "source": [
    "from IPython.display import Image \n",
    "from six import StringIO\n",
    "from sklearn.tree import export_graphviz\n",
    "import pydotplus, graphviz"
=======
   "execution_count": 114,
   "metadata": {},
   "outputs": [],
   "source": [
    "from sklearn.model_selection import RandomizedSearchCV"
>>>>>>> Stashed changes
   ]
  },
  {
   "cell_type": "code",
<<<<<<< Updated upstream
   "execution_count": 999,
   "metadata": {},
   "outputs": [],
   "source": [
    "y_train_pred = rf.predict(X_train)\n",
    "y_test_pred = rf.predict(X_test)"
=======
   "execution_count": 115,
   "metadata": {},
   "outputs": [],
   "source": [
    "# A parameter grid for XGBoost\n",
    "params = {\n",
    "        'n_estimators' : [100, 200, 500, 750], # no of trees \n",
    "        'learning_rate' : [0.01, 0.02, 0.05, 0.1, 0.25],  # eta\n",
    "        'min_child_weight': [1, 5, 7, 10],\n",
    "        'gamma': [0.1, 0.5, 1, 1.5, 5],\n",
    "        'subsample': [0.6, 0.8, 1.0],\n",
    "        'colsample_bytree': [0.6, 0.8, 1.0],\n",
    "        'max_depth': [3, 4, 5, 10, 12]\n",
    "        }\n",
    "\n",
    "folds = 3\n",
    "\n",
    "param_comb = 100\n",
    "\n",
    "random_search = RandomizedSearchCV(xgb_reg, param_distributions=params, n_iter=param_comb, n_jobs=-1, cv=3, verbose=3, random_state=42)\n"
>>>>>>> Stashed changes
   ]
  },
  {
   "cell_type": "code",
<<<<<<< Updated upstream
   "execution_count": 1000,
   "metadata": {},
   "outputs": [
    {
     "data": {
      "text/plain": [
       "0.8291014612422065"
      ]
     },
     "execution_count": 1000,
=======
   "execution_count": 116,
   "metadata": {},
   "outputs": [
    {
     "name": "stdout",
     "output_type": "stream",
     "text": [
      "Fitting 3 folds for each of 100 candidates, totalling 300 fits\n"
     ]
    },
    {
     "name": "stderr",
     "output_type": "stream",
     "text": [
      "[Parallel(n_jobs=-1)]: Using backend LokyBackend with 4 concurrent workers.\n",
      "[Parallel(n_jobs=-1)]: Done  24 tasks      | elapsed:    2.6s\n",
      "[Parallel(n_jobs=-1)]: Done 120 tasks      | elapsed:   19.6s\n",
      "[Parallel(n_jobs=-1)]: Done 280 tasks      | elapsed:   46.5s\n",
      "[Parallel(n_jobs=-1)]: Done 300 out of 300 | elapsed:   49.5s finished\n"
     ]
    },
    {
     "data": {
      "text/plain": [
       "RandomizedSearchCV(cv=3,\n",
       "                   estimator=XGBRegressor(base_score=0.5, booster='gbtree',\n",
       "                                          colsample_bylevel=1,\n",
       "                                          colsample_bynode=1,\n",
       "                                          colsample_bytree=1, gamma=0,\n",
       "                                          gpu_id=-1, importance_type='gain',\n",
       "                                          interaction_constraints='',\n",
       "                                          learning_rate=0.300000012,\n",
       "                                          max_delta_step=0, max_depth=6,\n",
       "                                          min_child_weight=1, missing=nan,\n",
       "                                          monotone_constraints='()',\n",
       "                                          n_estimators=100, n_jobs=-1,\n",
       "                                          num_pa...\n",
       "                                          scale_pos_weight=1, subsample=1,\n",
       "                                          tree_method='exact',\n",
       "                                          validate_parameters=1,\n",
       "                                          verbosity=None),\n",
       "                   n_iter=100, n_jobs=-1,\n",
       "                   param_distributions={'colsample_bytree': [0.6, 0.8, 1.0],\n",
       "                                        'gamma': [0.1, 0.5, 1, 1.5, 5],\n",
       "                                        'learning_rate': [0.01, 0.02, 0.05, 0.1,\n",
       "                                                          0.25],\n",
       "                                        'max_depth': [3, 4, 5, 10, 12],\n",
       "                                        'min_child_weight': [1, 5, 7, 10],\n",
       "                                        'n_estimators': [100, 200, 500, 750],\n",
       "                                        'subsample': [0.6, 0.8, 1.0]},\n",
       "                   random_state=42, verbose=3)"
      ]
     },
     "execution_count": 116,
>>>>>>> Stashed changes
     "metadata": {},
     "output_type": "execute_result"
    }
   ],
   "source": [
<<<<<<< Updated upstream
    "r2_score(y_train, y_train_pred)"
=======
    "random_search.fit(X_train, y_train)"
   ]
  },
  {
   "cell_type": "code",
   "execution_count": 117,
   "metadata": {},
   "outputs": [],
   "source": [
    "pred_hpt = random_search.predict(X_test)\n",
    "\n",
    "r2score = r2_score(pred_hpt,y_test)"
>>>>>>> Stashed changes
   ]
  },
  {
   "cell_type": "code",
<<<<<<< Updated upstream
   "execution_count": 1001,
   "metadata": {},
   "outputs": [
    {
     "data": {
      "text/plain": [
       "0.7674692068474721"
      ]
     },
     "execution_count": 1001,
     "metadata": {},
     "output_type": "execute_result"
    }
   ],
   "source": [
    "r2_score(y_test, y_test_pred)"
=======
   "execution_count": 118,
   "metadata": {},
   "outputs": [
    {
     "name": "stdout",
     "output_type": "stream",
     "text": [
      "XGboost With hyperparameter tuning 0.971389794062771\n"
     ]
    }
   ],
   "source": [
    "print(\"XGboost With hyperparameter tuning {}\" .format(r2score))"
>>>>>>> Stashed changes
   ]
  },
  {
   "cell_type": "code",
<<<<<<< Updated upstream
   "execution_count": 1002,
=======
   "execution_count": 119,
>>>>>>> Stashed changes
   "metadata": {},
   "outputs": [
    {
     "name": "stdout",
     "output_type": "stream",
     "text": [
<<<<<<< Updated upstream
      "1.8634794330586952\n"
=======
      "0.6866844012304558\n"
>>>>>>> Stashed changes
     ]
    }
   ],
   "source": [
    "# Calculating Mean Sqaured Error & Root Mean Squared Error\n",
<<<<<<< Updated upstream
    "mse = mean_squared_error(y_test, y_test_pred)\n",
=======
    "mse = mean_squared_error(y_test, pred_hpt)\n",
>>>>>>> Stashed changes
    "\n",
    "rmse = math.sqrt(mse)\n",
    "\n",
    "print(rmse)"
   ]
  },
  {
   "cell_type": "code",
   "execution_count": null,
   "metadata": {},
   "outputs": [],
   "source": []
  }
 ],
 "metadata": {
  "kernelspec": {
   "display_name": "Python 3",
   "language": "python",
   "name": "python3"
  },
  "language_info": {
   "codemirror_mode": {
    "name": "ipython",
    "version": 3
   },
   "file_extension": ".py",
   "mimetype": "text/x-python",
   "name": "python",
   "nbconvert_exporter": "python",
   "pygments_lexer": "ipython3",
   "version": "3.8.5"
  }
 },
 "nbformat": 4,
 "nbformat_minor": 4
}
